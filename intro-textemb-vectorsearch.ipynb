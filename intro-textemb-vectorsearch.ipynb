{
 "cells": [
  {
   "cell_type": "code",
   "execution_count": null,
   "metadata": {
    "id": "c3_K0GGSTrhd"
   },
   "outputs": [],
   "source": [
    "# Copyright 2023 Google LLC\n",
    "#\n",
    "# Licensed under the Apache License, Version 2.0 (the \"License\");\n",
    "# you may not use this file except in compliance with the License.\n",
    "# You may obtain a copy of the License at\n",
    "#\n",
    "#     https://www.apache.org/licenses/LICENSE-2.0\n",
    "#\n",
    "# Unless required by applicable law or agreed to in writing, software\n",
    "# distributed under the License is distributed on an \"AS IS\" BASIS,\n",
    "# WITHOUT WARRANTIES OR CONDITIONS OF ANY KIND, either express or implied.\n",
    "# See the License for the specific language governing permissions and\n",
    "# limitations under the License."
   ]
  },
  {
   "cell_type": "markdown",
   "metadata": {
    "id": "7VQkf8sFTeDo"
   },
   "source": [
    "# Getting Started with Text Embeddings + Vertex AI Vector Search\n",
    "\n",
    "\n",
    "<table align=\"left\">\n",
    "  <td style=\"text-align: center\">\n",
    "    <a href=\"https://colab.research.google.com/github/GoogleCloudPlatform/generative-ai/blob/main/embeddings/intro-textemb-vectorsearch.ipynb\">\n",
    "      <img width=\"32px\" src=\"https://www.gstatic.com/pantheon/images/bigquery/welcome_page/colab-logo.svg\" alt=\"Google Colaboratory logo\"><br> Open in Colab\n",
    "    </a>\n",
    "  </td>\n",
    "  <td style=\"text-align: center\">\n",
    "    <a href=\"https://console.cloud.google.com/vertex-ai/colab/import/https:%2F%2Fraw.githubusercontent.com%2FGoogleCloudPlatform%2Fgenerative-ai%2Fmain%2Fembeddings%2Fintro-textemb-vectorsearch.ipynb\">\n",
    "      <img width=\"32px\" src=\"https://lh3.googleusercontent.com/JmcxdQi-qOpctIvWKgPtrzZdJJK-J3sWE1RsfjZNwshCFgE_9fULcNpuXYTilIR2hjwN\" alt=\"Google Cloud Colab Enterprise logo\"><br> Open in Colab Enterprise\n",
    "    </a>\n",
    "  </td>\n",
    "  <td style=\"text-align: center\">\n",
    "    <a href=\"https://console.cloud.google.com/vertex-ai/workbench/deploy-notebook?download_url=https://raw.githubusercontent.com/GoogleCloudPlatform/generative-ai/main/embeddings/intro-textemb-vectorsearch.ipynb\">\n",
    "      <img src=\"https://www.gstatic.com/images/branding/gcpiconscolors/vertexai/v1/32px.svg\" alt=\"Vertex AI logo\"><br> Open in Vertex AI Workbench\n",
    "    </a>\n",
    "  </td>\n",
    "  <td style=\"text-align: center\">\n",
    "    <a href=\"https://console.cloud.google.com/bigquery/import?url=https://github.com/GoogleCloudPlatform/generative-ai/blob/main/embeddings/intro-textemb-vectorsearch.ipynb\">\n",
    "      <img src=\"https://www.gstatic.com/images/branding/gcpiconscolors/bigquery/v1/32px.svg\" alt=\"BigQuery Studio logo\"><br> Open in BigQuery Studio\n",
    "    </a>\n",
    "  </td>\n",
    "  <td style=\"text-align: center\">\n",
    "    <a href=\"https://github.com/GoogleCloudPlatform/generative-ai/blob/main/embeddings/intro-textemb-vectorsearch.ipynb\">\n",
    "      <img width=\"32px\" src=\"https://upload.wikimedia.org/wikipedia/commons/9/91/Octicons-mark-github.svg\" alt=\"GitHub logo\"><br> View on GitHub\n",
    "    </a>\n",
    "  </td>\n",
    "</table>\n",
    "\n",
    "<div style=\"clear: both;\"></div>\n",
    "\n",
    "<b>Share to:</b>\n",
    "\n",
    "<a href=\"https://www.linkedin.com/sharing/share-offsite/?url=https%3A//github.com/GoogleCloudPlatform/generative-ai/blob/main/embeddings/intro-textemb-vectorsearch.ipynb\" target=\"_blank\">\n",
    "  <img width=\"20px\" src=\"https://upload.wikimedia.org/wikipedia/commons/8/81/LinkedIn_icon.svg\" alt=\"LinkedIn logo\">\n",
    "</a>\n",
    "\n",
    "<a href=\"https://bsky.app/intent/compose?text=https%3A//github.com/GoogleCloudPlatform/generative-ai/blob/main/embeddings/intro-textemb-vectorsearch.ipynb\" target=\"_blank\">\n",
    "  <img width=\"20px\" src=\"https://upload.wikimedia.org/wikipedia/commons/7/7a/Bluesky_Logo.svg\" alt=\"Bluesky logo\">\n",
    "</a>\n",
    "\n",
    "<a href=\"https://twitter.com/intent/tweet?url=https%3A//github.com/GoogleCloudPlatform/generative-ai/blob/main/embeddings/intro-textemb-vectorsearch.ipynb\" target=\"_blank\">\n",
    "  <img width=\"20px\" src=\"https://upload.wikimedia.org/wikipedia/commons/5/53/X_logo_2023_original.svg\" alt=\"X logo\">\n",
    "</a>\n",
    "\n",
    "<a href=\"https://reddit.com/submit?url=https%3A//github.com/GoogleCloudPlatform/generative-ai/blob/main/embeddings/intro-textemb-vectorsearch.ipynb\" target=\"_blank\">\n",
    "  <img width=\"20px\" src=\"https://redditinc.com/hubfs/Reddit%20Inc/Brand/Reddit_Logo.png\" alt=\"Reddit logo\">\n",
    "</a>\n",
    "\n",
    "<a href=\"https://www.facebook.com/sharer/sharer.php?u=https%3A//github.com/GoogleCloudPlatform/generative-ai/blob/main/embeddings/intro-textemb-vectorsearch.ipynb\" target=\"_blank\">\n",
    "  <img width=\"20px\" src=\"https://upload.wikimedia.org/wikipedia/commons/5/51/Facebook_f_logo_%282019%29.svg\" alt=\"Facebook logo\">\n",
    "</a>            "
   ]
  },
  {
   "cell_type": "markdown",
   "metadata": {
    "id": "4d742715e6de"
   },
   "source": [
    "| | |\n",
    "|-|-|\n",
    "|Author(s) | [Smitha Venkat](https://github.com/smitha-google), [Kaz Sato](https://github.com/kazunori279)|"
   ]
  },
  {
   "cell_type": "markdown",
   "metadata": {
    "id": "25a71983a324"
   },
   "source": [
    "## Introduction\n",
    "\n",
    "In this tutorial, you learn how to use Google Cloud AI tools to quickly bring the power of Large Language Models to enterprise systems.  \n",
    "\n",
    "This tutorial covers the following -\n",
    "\n",
    "*   What are embeddings - what business challenges do they help solve ?\n",
    "*   Understanding Text with Vertex AI Text Embeddings\n",
    "*   Find Embeddings fast with Vertex AI Vector Search\n",
    "*   Grounding LLM outputs with Vector Search\n",
    "\n",
    "This tutorial is based on [the blog post](https://cloud.google.com/blog/products/ai-machine-learning/how-to-use-grounding-for-your-llms-with-text-embeddings), combined with sample code.\n",
    "\n",
    "\n",
    "### Prerequisites\n",
    "\n",
    "This tutorial is designed for developers who has basic knowledge and experience with Python programming and machine learning.\n",
    "\n",
    "If you are not reading this tutorial in Qwiklab, then you need to have a Google Cloud project that is linked to a billing account to run this. Please go through [this document](https://cloud.google.com/vertex-ai/docs/start/cloud-environment) to create a project and setup a billing account for it.\n",
    "\n",
    "### Choose the runtime environment\n",
    "\n",
    "The notebook can be run on either Google Colab or [Vertex AI Workbench](https://cloud.google.com/vertex-ai-workbench).\n",
    "\n",
    "- To use Colab: Click [this link](https://colab.research.google.com/github/GoogleCloudPlatform/generative-ai/blob/main/embeddings/intro-textemb-vectorsearch.ipynb) to open the tutorial in Colab.\n",
    "\n",
    "- To use Workbench: If it is the first time to use Workbench in your Google Cloud project, open [the Workbench console](https://console.cloud.google.com/vertex-ai/workbench) and click ENABLE button to enable Notebooks API. Then click [this link](https://console.cloud.google.com/vertex-ai/workbench/deploy-notebook?download_url=https://raw.githubusercontent.com/GoogleCloudPlatform/generative-ai/main/embeddings/intro-textemb-vectorsearch.ipynb),  and select an existing notebook or create a new notebook.\n"
   ]
  },
  {
   "cell_type": "markdown",
   "metadata": {
    "id": "2pImjuenUIQz"
   },
   "source": [
    "### How much will this cost?\n",
    "\n",
    "In case you are using your own Cloud project, not a temporary project on Qwiklab, you need to spend roughly a few US dollars to finish this tutorial.\n",
    "\n",
    "The pricing of the Cloud services we will use in this tutorial are available in the following pages:\n",
    "\n",
    "- [Vertex AI Embeddings for Text](https://cloud.google.com/vertex-ai/pricing#generative_ai_models)\n",
    "- [Vertex AI Vector Search](https://cloud.google.com/vertex-ai/pricing#matchingengine)\n",
    "- [BigQuery](https://cloud.google.com/bigquery/pricing)\n",
    "- [Cloud Storage](https://cloud.google.com/storage/pricing)\n",
    "- [Vertex AI Workbench](https://cloud.google.com/vertex-ai/pricing#notebooks) if you use one\n",
    "\n",
    "You can use the [Pricing Calculator](https://cloud.google.com/products/calculator) to generate a cost estimate based on your projected usage. The following is an example of rough cost estimation with the calculator, assuming you will go through this tutorial a couple of time.\n",
    "\n",
    "<img src=\"https://storage.googleapis.com/github-repo/img/embeddings/vs-quickstart/pricing.png\" width=\"50%\"/>\n",
    "\n",
    "### **Warning: delete your objects after the tutorial**\n",
    "\n",
    "In case you are using your own Cloud project, please make sure to delete all the Indexes, Index Endpoints and Cloud Storage buckets (and the Workbench instance if you use one) after finishing this tutorial. Otherwise the remaining assets would incur unexpected costs.\n"
   ]
  },
  {
   "cell_type": "markdown",
   "metadata": {
    "id": "6Fu2OoUDTQ6w"
   },
   "source": [
    "# Bringing Gen AI and LLMs to production services\n",
    "\n",
    "Many people are now starting to think about how to bring Gen AI and LLMs to production services, and facing with several challenges.\n",
    "\n",
    "- \"How to integrate LLMs or AI chatbots with existing IT systems, databases and business data?\"\n",
    "- \"We have thousands of products. How can I let LLM memorize them all precisely?\"\n",
    "- \"How to handle the hallucination issues in AI chatbots to build a reliable service?\"\n",
    "\n",
    "Here is a quick solution: **grounding** with **embeddings** and **vector search**.\n",
    "\n",
    "What is grounding? What are embedding and vector search? In this tutorial, we will learn these crucial concepts to build reliable Gen AI services for enterprise use. But before we dive deeper, let's try the demo below."
   ]
  },
  {
   "cell_type": "markdown",
   "metadata": {
    "id": "ORqZYLgTm9pJ"
   },
   "source": [
    "![](https://storage.googleapis.com/gweb-cloudblog-publish/original_images/1._demo_animation.gif)\n",
    "\n",
    "**Exercise: Try the Stack Overflow semantic search demo:**\n",
    "\n",
    "This demo is available as a [public live demo](https://ai-demos.dev/). Select \"STACKOVERFLOW\" and enter any coding question as a query, so it runs a text search on **8 million** questions posted on [Stack Overflow](https://stackoverflow.com/). Try the text semantic search with some queries like 'How to shuffle rows in SQL?' or arbitrary programming questions.\n",
    "\n",
    "In this tutorial, we are going to see how to build a similar search experience - what is involved in building solutions like this using Vertex AI Embeddings API and Vector Search."
   ]
  },
  {
   "cell_type": "markdown",
   "metadata": {
    "id": "H1MAIOkCw35V"
   },
   "source": [
    "# What is Embeddings?\n",
    "\n",
    "With the rise of LLMs, why is it becoming important for IT engineers and ITDMs to understand how they work?\n",
    "\n",
    "In traditional IT systems, most data is organized as structured or tabular data, using simple keywords, labels, and categories in databases and search engines.\n",
    "\n",
    "![](https://storage.googleapis.com/github-repo/img/embeddings/textemb-vs-notebook/1.png)\n",
    "\n",
    "In contrast, AI-powered services arrange data into a simple data structure known as \"embeddings.\"\n",
    "\n",
    "![](https://storage.googleapis.com/github-repo/img/embeddings/textemb-vs-notebook/2.png)"
   ]
  },
  {
   "cell_type": "markdown",
   "metadata": {
    "id": "hJqjBmQsxz2Z"
   },
   "source": [
    "Once trained with specific content like text, images, or any content, AI creates a space called \"embedding space\", which is essentially a map of the content's meaning.\n",
    "\n",
    "![](https://storage.googleapis.com/github-repo/img/embeddings/textemb-vs-notebook/3.png)\n",
    "\n",
    "AI can identify the location of each content on the map, that's what embedding is.\n",
    "\n",
    "![](https://storage.googleapis.com/github-repo/img/embeddings/textemb-vs-notebook/4.png)\n",
    "\n",
    "Let's take an example where a text discusses movies, music, and actors, with a distribution of 10%, 2%, and 30%, respectively. In this case, the AI can create an embedding with three values: 0.1, 0.02, and 0.3, in 3 dimensional space.\n",
    "\n",
    "![](https://storage.googleapis.com/github-repo/img/embeddings/textemb-vs-notebook/5.png)\n",
    "\n",
    "AI can put content with similar meanings closely together in the space."
   ]
  },
  {
   "cell_type": "markdown",
   "metadata": {
    "id": "A5z7vyTyzk_4"
   },
   "source": [
    "This is how Google organizes data across various services like Google Search, YouTube, Play, and many others, to provide search results and recommendations with relevant content.\n",
    "\n",
    "Embeddings can also be used to represent different types of things in businesses, such as products, users, user activities, conversations, music & videos, signals from IoT sensors, and so on."
   ]
  },
  {
   "cell_type": "markdown",
   "metadata": {
    "id": "tpKVmyEe0ab9"
   },
   "source": [
    "AI and Embeddings are now playing a crucial role in creating a new way of human-computer interaction.\n",
    "\n",
    "![](https://storage.googleapis.com/github-repo/img/embeddings/textemb-vs-notebook/6.png)\n",
    "\n",
    "AI organizes data into embeddings, which represent what the user is looking for, the meaning of contents, or many other things you have in your business. This creates a new level of user experience that is becoming the new standard.\n",
    "\n",
    "To learn more about embeddings, [Foundational courses: Embeddings on Google Machine Learning Crush Course](https://developers.google.com/machine-learning/crash-course/embeddings/video-lecture) and [Meet AI's multitool: Vector embeddings by Dale Markowitz](https://cloud.google.com/blog/topics/developers-practitioners/meet-ais-multitool-vector-embeddings) are great materials.\n"
   ]
  },
  {
   "cell_type": "markdown",
   "metadata": {
    "id": "ovQpiL2GUEXa"
   },
   "source": [
    "# Vertex AI Embeddings for Text\n",
    "\n",
    "With the [Vertex AI Embeddings for Text](https://cloud.google.com/vertex-ai/docs/generative-ai/embeddings/get-text-embeddings), you can easily create a text embedding with LLM. The product is also available on [Vertex AI Model Garden](https://cloud.google.com/model-garden)\n",
    "\n",
    "![](https://storage.googleapis.com/github-repo/img/embeddings/textemb-vs-notebook/7.png)\n",
    "\n",
    "This API is designed to extract embeddings from texts. It can take text input up to 2048 input tokens, and outputs 768 dimensional text embeddings."
   ]
  },
  {
   "cell_type": "markdown",
   "metadata": {
    "id": "nwJHDPG7lU52"
   },
   "source": [
    "## LLM text embedding business use cases\n",
    "\n",
    "With the embedding API, you can apply the innovation of embeddings, combined with the LLM capability, to various text processing tasks, such as:\n",
    "\n",
    "**LLM-enabled Semantic Search**: text embeddings can be used to represent both the meaning and intent of a user's query and documents in the embedding space. Documents that have similar meaning to the user's query intent will be found fast with vector search technology. The model is capable of generating text embeddings that capture the subtle nuances of each sentence and paragraphs in the document.\n",
    "\n",
    "**LLM-enabled Text Classification**: LLM text embeddings can be used for text classification with a deep understanding of different contexts without any training or fine-tuning (so-called zero-shot learning). This wasn't possible with the past language models without task-specific training.\n",
    "\n",
    "**LLM-enabled Recommendation**: The text embedding can be used for recommendation systems as a strong feature for training recommendation models such as Two-Tower model. The model learns the relationship between the query and candidate embeddings, resulting in next-gen user experience with semantic product recommendation.\n",
    "\n",
    "LLM-enabled Clustering, Anomaly Detection, Sentiment Analysis, and more, can be also handled with the LLM-level deep semantics understanding.\n"
   ]
  },
  {
   "cell_type": "markdown",
   "metadata": {
    "id": "ga5A7koYlvlZ"
   },
   "source": [
    "## Sorting 8 million texts at \"librarian-level\" precision\n",
    "\n",
    "Vertex AI Embeddings for Text has an embedding space with 768 dimensions. As explained earlier, the space represents a huge map of a wide variety of texts in the world, organized by their meanings. With each input text, the model can find a location (embedding) in the map.\n",
    "\n",
    "By visualizing the embedding space, you can actually observe how the model sorts the texts at the \"librarian-level\" precision.\n",
    "\n",
    "**Exercise: Try the Nomic AI Atlas**\n",
    "\n",
    "[Nomic AI](http://nomic.ai/) provides a platform called Atlas for storing, visualizing and interacting with embedding spaces with high scalability and in a smooth UI, and they worked with Google for visualizing the embedding space of the 8 million Stack Overflow questions. You can try exploring around the space, zooming in and out to each data point on your browser on this page, courtesy of Nomic AI.\n",
    "\n",
    "The embedding space represents a huge map of texts, organized by their meanings\n",
    "With each input text, the model can find a location (embedding) in the map\n",
    "Like a librarian reading through millions of texts, sorting them with millions of nano-categories\n",
    "\n",
    "Try exploring it [here](https://atlas.nomic.ai/map/edaff028-12b5-42a0-8e8b-6430c9b8222b/bcb42818-3581-4fb5-ac30-9883d01f98ec). Zoom into a few categories, point each dots, and see how the LLM is sorting similar questions close together in the space.\n",
    "\n",
    "![](https://storage.googleapis.com/gweb-cloudblog-publish/images/4._Nomic_AI_Atlas.max-2200x2200.png)\n",
    "\n",
    "### The librarian-level semantic understanding\n",
    "\n",
    "Here are the examples of the librarian-level semantic understanding by Embeddings API with Stack Overflow questions.\n",
    "\n",
    "![](https://storage.googleapis.com/gweb-cloudblog-publish/images/5._semantic_understanding.max-2200x2200.png)\n",
    "\n",
    "For example, the model thinks the question \"Does moving the request line to a header frame require an app change?\" is similar to the question \"Does an application developed on HTTP1x require modifications to run on HTTP2?\". That is because The model knows both questions talk about what's the change required to support the HTTP2 header frame.\n",
    "\n",
    "Note that this demo didn't require any training or fine-tuning with computer programming specific datasets. This is the innovative part of the zero-shot learning capability of the LLM. It can be applied to a wide variety of industries, including finance, healthcare, retail, manufacturing, construction, media, and more, for deep semantic search on the industry-focused business documents without spending time and cost for collecting industry specific datasets and training models."
   ]
  },
  {
   "cell_type": "markdown",
   "metadata": {
    "id": "-iOWOKnIvYxf"
   },
   "source": [
    "# Text Embeddings in Action\n",
    "\n",
    "Lets try using Text Embeddings in action with actual sample code."
   ]
  },
  {
   "cell_type": "markdown",
   "metadata": {
    "id": "AtXnXhF8U-8R"
   },
   "source": [
    "## Setup\n",
    "\n",
    "Before get started with the Vertex AI services, we need to setup the following.\n",
    "\n",
    "* Install Python SDK\n",
    "* Environment variables\n",
    "* Authentication (Colab only)\n",
    "* Enable APIs\n",
    "* Set IAM permissions"
   ]
  },
  {
   "cell_type": "markdown",
   "metadata": {
    "id": "UjnvWl6FLUlF"
   },
   "source": [
    "### Install Python SDK\n",
    "\n",
    "Vertex AI, Cloud Storage and BigQuery APIs can be accessed with multiple ways including REST API and Python SDK. In this tutorial we will use the SDK."
   ]
  },
  {
   "cell_type": "code",
   "execution_count": 1,
   "metadata": {
    "id": "FZgLGALt_al7",
    "tags": []
   },
   "outputs": [
    {
     "name": "stdout",
     "output_type": "stream",
     "text": [
      "Requirement already satisfied: google-cloud-aiplatform in /opt/conda/lib/python3.10/site-packages (1.67.1)\n",
      "Collecting google-cloud-aiplatform\n",
      "  Downloading google_cloud_aiplatform-1.73.0-py2.py3-none-any.whl.metadata (31 kB)\n",
      "Requirement already satisfied: google-cloud-storage in /opt/conda/lib/python3.10/site-packages (2.14.0)\n",
      "Collecting google-cloud-storage\n",
      "  Downloading google_cloud_storage-2.18.2-py2.py3-none-any.whl.metadata (9.1 kB)\n",
      "Requirement already satisfied: google-cloud-bigquery[pandas] in /opt/conda/lib/python3.10/site-packages (3.25.0)\n",
      "Collecting google-cloud-bigquery[pandas]\n",
      "  Downloading google_cloud_bigquery-3.27.0-py2.py3-none-any.whl.metadata (8.6 kB)\n",
      "Requirement already satisfied: google-api-core!=2.0.*,!=2.1.*,!=2.2.*,!=2.3.*,!=2.4.*,!=2.5.*,!=2.6.*,!=2.7.*,<3.0.0dev,>=1.34.1 in /opt/conda/lib/python3.10/site-packages (from google-api-core[grpc]!=2.0.*,!=2.1.*,!=2.2.*,!=2.3.*,!=2.4.*,!=2.5.*,!=2.6.*,!=2.7.*,<3.0.0dev,>=1.34.1->google-cloud-aiplatform) (1.34.1)\n",
      "Requirement already satisfied: google-auth<3.0.0dev,>=2.14.1 in /opt/conda/lib/python3.10/site-packages (from google-cloud-aiplatform) (2.35.0)\n",
      "Requirement already satisfied: proto-plus<2.0.0dev,>=1.22.3 in /opt/conda/lib/python3.10/site-packages (from google-cloud-aiplatform) (1.24.0)\n",
      "Requirement already satisfied: protobuf!=4.21.0,!=4.21.1,!=4.21.2,!=4.21.3,!=4.21.4,!=4.21.5,<6.0.0dev,>=3.20.2 in /opt/conda/lib/python3.10/site-packages (from google-cloud-aiplatform) (3.20.3)\n",
      "Requirement already satisfied: packaging>=14.3 in /opt/conda/lib/python3.10/site-packages (from google-cloud-aiplatform) (24.1)\n",
      "Requirement already satisfied: google-cloud-resource-manager<3.0.0dev,>=1.3.3 in /opt/conda/lib/python3.10/site-packages (from google-cloud-aiplatform) (1.12.5)\n",
      "Requirement already satisfied: shapely<3.0.0dev in /opt/conda/lib/python3.10/site-packages (from google-cloud-aiplatform) (2.0.6)\n",
      "Requirement already satisfied: pydantic<3 in /opt/conda/lib/python3.10/site-packages (from google-cloud-aiplatform) (1.10.18)\n",
      "Requirement already satisfied: docstring-parser<1 in /opt/conda/lib/python3.10/site-packages (from google-cloud-aiplatform) (0.16)\n",
      "Collecting google-api-core!=2.0.*,!=2.1.*,!=2.2.*,!=2.3.*,!=2.4.*,!=2.5.*,!=2.6.*,!=2.7.*,<3.0.0dev,>=1.34.1 (from google-api-core[grpc]!=2.0.*,!=2.1.*,!=2.2.*,!=2.3.*,!=2.4.*,!=2.5.*,!=2.6.*,!=2.7.*,<3.0.0dev,>=1.34.1->google-cloud-aiplatform)\n",
      "  Downloading google_api_core-2.23.0-py3-none-any.whl.metadata (3.0 kB)\n",
      "Requirement already satisfied: google-cloud-core<3.0dev,>=2.3.0 in /opt/conda/lib/python3.10/site-packages (from google-cloud-storage) (2.4.1)\n",
      "Requirement already satisfied: google-resumable-media>=2.7.2 in /opt/conda/lib/python3.10/site-packages (from google-cloud-storage) (2.7.2)\n",
      "Requirement already satisfied: requests<3.0.0dev,>=2.18.0 in /opt/conda/lib/python3.10/site-packages (from google-cloud-storage) (2.32.3)\n",
      "Requirement already satisfied: google-crc32c<2.0dev,>=1.0 in /opt/conda/lib/python3.10/site-packages (from google-cloud-storage) (1.6.0)\n",
      "Requirement already satisfied: python-dateutil<3.0dev,>=2.7.3 in /opt/conda/lib/python3.10/site-packages (from google-cloud-bigquery[pandas]) (2.9.0)\n",
      "Requirement already satisfied: pandas>=1.1.0 in /opt/conda/lib/python3.10/site-packages (from google-cloud-bigquery[pandas]) (2.0.3)\n",
      "Requirement already satisfied: pyarrow>=3.0.0 in /opt/conda/lib/python3.10/site-packages (from google-cloud-bigquery[pandas]) (9.0.0)\n",
      "Requirement already satisfied: db-dtypes<2.0.0dev,>=0.3.0 in /opt/conda/lib/python3.10/site-packages (from google-cloud-bigquery[pandas]) (1.3.0)\n",
      "Requirement already satisfied: numpy>=1.16.6 in /opt/conda/lib/python3.10/site-packages (from db-dtypes<2.0.0dev,>=0.3.0->google-cloud-bigquery[pandas]) (1.24.4)\n",
      "Requirement already satisfied: googleapis-common-protos<2.0.dev0,>=1.56.2 in /opt/conda/lib/python3.10/site-packages (from google-api-core!=2.0.*,!=2.1.*,!=2.2.*,!=2.3.*,!=2.4.*,!=2.5.*,!=2.6.*,!=2.7.*,<3.0.0dev,>=1.34.1->google-api-core[grpc]!=2.0.*,!=2.1.*,!=2.2.*,!=2.3.*,!=2.4.*,!=2.5.*,!=2.6.*,!=2.7.*,<3.0.0dev,>=1.34.1->google-cloud-aiplatform) (1.65.0)\n",
      "Requirement already satisfied: grpcio<2.0dev,>=1.33.2 in /opt/conda/lib/python3.10/site-packages (from google-api-core[grpc]!=2.0.*,!=2.1.*,!=2.2.*,!=2.3.*,!=2.4.*,!=2.5.*,!=2.6.*,!=2.7.*,<3.0.0dev,>=1.34.1->google-cloud-aiplatform) (1.48.0)\n",
      "Requirement already satisfied: grpcio-status<2.0.dev0,>=1.33.2 in /opt/conda/lib/python3.10/site-packages (from google-api-core[grpc]!=2.0.*,!=2.1.*,!=2.2.*,!=2.3.*,!=2.4.*,!=2.5.*,!=2.6.*,!=2.7.*,<3.0.0dev,>=1.34.1->google-cloud-aiplatform) (1.48.0)\n",
      "Requirement already satisfied: cachetools<6.0,>=2.0.0 in /opt/conda/lib/python3.10/site-packages (from google-auth<3.0.0dev,>=2.14.1->google-cloud-aiplatform) (4.2.4)\n",
      "Requirement already satisfied: pyasn1-modules>=0.2.1 in /opt/conda/lib/python3.10/site-packages (from google-auth<3.0.0dev,>=2.14.1->google-cloud-aiplatform) (0.4.1)\n",
      "Requirement already satisfied: rsa<5,>=3.1.4 in /opt/conda/lib/python3.10/site-packages (from google-auth<3.0.0dev,>=2.14.1->google-cloud-aiplatform) (4.9)\n",
      "Requirement already satisfied: grpc-google-iam-v1<1.0.0dev,>=0.12.4 in /opt/conda/lib/python3.10/site-packages (from google-cloud-resource-manager<3.0.0dev,>=1.3.3->google-cloud-aiplatform) (0.12.7)\n",
      "Requirement already satisfied: pytz>=2020.1 in /opt/conda/lib/python3.10/site-packages (from pandas>=1.1.0->google-cloud-bigquery[pandas]) (2024.2)\n",
      "Requirement already satisfied: tzdata>=2022.1 in /opt/conda/lib/python3.10/site-packages (from pandas>=1.1.0->google-cloud-bigquery[pandas]) (2024.1)\n",
      "Requirement already satisfied: typing-extensions>=4.2.0 in /opt/conda/lib/python3.10/site-packages (from pydantic<3->google-cloud-aiplatform) (4.12.2)\n",
      "Requirement already satisfied: six>=1.5 in /opt/conda/lib/python3.10/site-packages (from python-dateutil<3.0dev,>=2.7.3->google-cloud-bigquery[pandas]) (1.16.0)\n",
      "Requirement already satisfied: charset-normalizer<4,>=2 in /opt/conda/lib/python3.10/site-packages (from requests<3.0.0dev,>=2.18.0->google-cloud-storage) (3.3.2)\n",
      "Requirement already satisfied: idna<4,>=2.5 in /opt/conda/lib/python3.10/site-packages (from requests<3.0.0dev,>=2.18.0->google-cloud-storage) (3.10)\n",
      "Requirement already satisfied: urllib3<3,>=1.21.1 in /opt/conda/lib/python3.10/site-packages (from requests<3.0.0dev,>=2.18.0->google-cloud-storage) (1.26.20)\n",
      "Requirement already satisfied: certifi>=2017.4.17 in /opt/conda/lib/python3.10/site-packages (from requests<3.0.0dev,>=2.18.0->google-cloud-storage) (2024.8.30)\n",
      "Requirement already satisfied: pyasn1<0.7.0,>=0.4.6 in /opt/conda/lib/python3.10/site-packages (from pyasn1-modules>=0.2.1->google-auth<3.0.0dev,>=2.14.1->google-cloud-aiplatform) (0.6.1)\n",
      "Downloading google_cloud_aiplatform-1.73.0-py2.py3-none-any.whl (6.3 MB)\n",
      "\u001b[2K   \u001b[90m━━━━━━━━━━━━━━━━━━━━━━━━━━━━━━━━━━━━━━━━\u001b[0m \u001b[32m6.3/6.3 MB\u001b[0m \u001b[31m77.8 MB/s\u001b[0m eta \u001b[36m0:00:00\u001b[0m\n",
      "\u001b[?25hDownloading google_cloud_storage-2.18.2-py2.py3-none-any.whl (130 kB)\n",
      "Downloading google_api_core-2.23.0-py3-none-any.whl (156 kB)\n",
      "Downloading google_cloud_bigquery-3.27.0-py2.py3-none-any.whl (240 kB)\n",
      "Installing collected packages: google-api-core, google-cloud-storage, google-cloud-bigquery, google-cloud-aiplatform\n",
      "\u001b[33m  WARNING: The script tb-gcp-uploader is installed in '/home/jupyter/.local/bin' which is not on PATH.\n",
      "  Consider adding this directory to PATH or, if you prefer to suppress this warning, use --no-warn-script-location.\u001b[0m\u001b[33m\n",
      "\u001b[0m\u001b[31mERROR: pip's dependency resolver does not currently take into account all the packages that are installed. This behaviour is the source of the following dependency conflicts.\n",
      "dataproc-jupyter-plugin 0.1.80 requires aiohttp~=3.9.5, but you have aiohttp 3.10.5 which is incompatible.\n",
      "google-api-python-client 1.8.0 requires google-api-core<2dev,>=1.13.0, but you have google-api-core 2.23.0 which is incompatible.\n",
      "google-cloud-pubsub 2.23.1 requires grpcio<2.0dev,>=1.51.3, but you have grpcio 1.48.0 which is incompatible.\u001b[0m\u001b[31m\n",
      "\u001b[0mSuccessfully installed google-api-core-2.23.0 google-cloud-aiplatform-1.73.0 google-cloud-bigquery-3.27.0 google-cloud-storage-2.18.2\n",
      "Note: you may need to restart the kernel to use updated packages.\n"
     ]
    }
   ],
   "source": [
    "%pip install --upgrade --user google-cloud-aiplatform google-cloud-storage 'google-cloud-bigquery[pandas]'"
   ]
  },
  {
   "cell_type": "markdown",
   "metadata": {
    "id": "R5Xep4W9lq-Z"
   },
   "source": [
    "### Restart current runtime\n",
    "\n",
    "To use the newly installed packages in this Jupyter runtime, you must restart the runtime. You can do this by running the cell below, which will restart the current kernel."
   ]
  },
  {
   "cell_type": "code",
   "execution_count": 2,
   "metadata": {
    "id": "XRvKdaPDTznN",
    "tags": []
   },
   "outputs": [
    {
     "data": {
      "text/plain": [
       "{'status': 'ok', 'restart': True}"
      ]
     },
     "execution_count": 2,
     "metadata": {},
     "output_type": "execute_result"
    }
   ],
   "source": [
    "# Restart kernel after installs so that your environment can access the new packages\n",
    "import IPython\n",
    "\n",
    "app = IPython.Application.instance()\n",
    "app.kernel.do_shutdown(True)"
   ]
  },
  {
   "cell_type": "markdown",
   "metadata": {
    "id": "SbmM4z7FOBpM"
   },
   "source": [
    "<div class=\"alert alert-block alert-warning\">\n",
    "<b>⚠️ The kernel is going to restart. Please wait until it is finished before continuing to the next step. ⚠️</b>\n",
    "</div>\n"
   ]
  },
  {
   "cell_type": "markdown",
   "metadata": {
    "id": "nCoTvkOJoh76"
   },
   "source": [
    "### Environment variables\n",
    "\n",
    "Sets environment variables. If asked, please replace the following `[your-project-id]` with your project ID and run it."
   ]
  },
  {
   "cell_type": "code",
   "execution_count": 1,
   "metadata": {
    "id": "fkmvFRrj3nQI",
    "tags": []
   },
   "outputs": [],
   "source": [
    "# get project ID\n",
    "PROJECT_ID = ! gcloud config get project\n",
    "PROJECT_ID = PROJECT_ID[0]\n",
    "LOCATION = \"us-central1\"\n",
    "if PROJECT_ID == \"(unset)\":\n",
    "    print(f\"Please set the project ID manually below\")"
   ]
  },
  {
   "cell_type": "code",
   "execution_count": 2,
   "metadata": {
    "id": "69XJ95rNoYG9",
    "tags": []
   },
   "outputs": [],
   "source": [
    "# define project information\n",
    "if PROJECT_ID == \"(unset)\":\n",
    "    PROJECT_ID = \"qwiklabs-gcp-04-53a063041c34\"  # @param {type:\"string\"}\n",
    "\n",
    "# generate an unique id for this session\n",
    "from datetime import datetime\n",
    "\n",
    "UID = datetime.now().strftime(\"%m%d%H%M\")"
   ]
  },
  {
   "cell_type": "markdown",
   "metadata": {
    "id": "ph7mDSMRVTIZ"
   },
   "source": [
    "### Authentication (Colab only)\n",
    "\n",
    "If you are running this notebook on Colab, you will need to run the following cell authentication. This step is not required if you are using Vertex AI Workbench as it is pre-authenticated."
   ]
  },
  {
   "cell_type": "code",
   "execution_count": 3,
   "metadata": {
    "id": "5jQkFtlimNXR",
    "tags": []
   },
   "outputs": [],
   "source": [
    "import sys\n",
    "\n",
    "# if it's Colab runtime, authenticate the user with Google Cloud\n",
    "if \"google.colab\" in sys.modules:\n",
    "    from google.colab import auth\n",
    "\n",
    "    auth.authenticate_user()"
   ]
  },
  {
   "cell_type": "markdown",
   "metadata": {
    "id": "jUPbl4IFLmC2"
   },
   "source": [
    "### Enable APIs\n",
    "\n",
    "Run the following to enable APIs for Compute Engine, Vertex AI, Cloud Storage and BigQuery with this Google Cloud project."
   ]
  },
  {
   "cell_type": "code",
   "execution_count": 4,
   "metadata": {
    "id": "qGf0qMMQNond",
    "tags": []
   },
   "outputs": [
    {
     "name": "stdout",
     "output_type": "stream",
     "text": [
      "Operation \"operations/acat.p2-702423486597-137624fd-4ad9-4634-b616-d0cb4d7a5f3d\" finished successfully.\n"
     ]
    }
   ],
   "source": [
    "! gcloud services enable compute.googleapis.com aiplatform.googleapis.com storage.googleapis.com bigquery.googleapis.com --project {PROJECT_ID}"
   ]
  },
  {
   "cell_type": "markdown",
   "metadata": {
    "id": "8cF8rkN3Lnhq"
   },
   "source": [
    "### Set IAM permissions\n",
    "\n",
    "Also, we need to add access permissions to the default service account for using those services.\n",
    "\n",
    "- Go to [the IAM page](https://console.cloud.google.com/iam-admin/) in the Console\n",
    "- Look for the principal for default compute service account. It should look like: `<project-number>-compute@developer.gserviceaccount.com`\n",
    "- Click the edit button at right and click `ADD ANOTHER ROLE` to add `Vertex AI User`, `BigQuery User` and `Storage Admin` to the account.\n",
    "\n",
    "This will look like this:\n",
    "\n",
    "![](https://storage.googleapis.com/github-repo/img/embeddings/vs-quickstart/iam-setting.png)"
   ]
  },
  {
   "cell_type": "markdown",
   "metadata": {
    "id": "mahCxLXHMIls"
   },
   "source": [
    "## Getting Started with Vertex AI Embeddings for Text\n",
    "\n",
    "Now it's ready to get started with embeddings!"
   ]
  },
  {
   "cell_type": "markdown",
   "metadata": {
    "id": "rq07_-o0VoZD"
   },
   "source": [
    "### Data Preparation\n",
    "\n",
    "We will be using [the Stack Overflow public dataset](https://console.cloud.google.com/marketplace/product/stack-exchange/stack-overflow) hosted on BigQuery table `bigquery-public-data.stackoverflow.posts_questions`. This is a very big dataset with 23 million rows that doesn't fit into the memory. We are going to limit it to 1000 rows for this tutorial."
   ]
  },
  {
   "cell_type": "code",
   "execution_count": 5,
   "metadata": {
    "id": "snrzPsEQDH4S",
    "tags": []
   },
   "outputs": [
    {
     "name": "stderr",
     "output_type": "stream",
     "text": [
      "/home/jupyter/.local/lib/python3.10/site-packages/google/cloud/bigquery/table.py:2309: UserWarning: Unable to represent RANGE schema as struct using pandas ArrowDtype. Using `object` instead. To use ArrowDtype, use pandas >= 1.5 and pyarrow >= 10.0.1.\n",
      "  warnings.warn(_RANGE_PYARROW_WARNING)\n",
      "/home/jupyter/.local/lib/python3.10/site-packages/google/cloud/bigquery/table.py:2323: UserWarning: Unable to represent RANGE schema as struct using pandas ArrowDtype. Using `object` instead. To use ArrowDtype, use pandas >= 1.5 and pyarrow >= 10.0.1.\n",
      "  warnings.warn(_RANGE_PYARROW_WARNING)\n",
      "/home/jupyter/.local/lib/python3.10/site-packages/google/cloud/bigquery/table.py:2337: UserWarning: Unable to represent RANGE schema as struct using pandas ArrowDtype. Using `object` instead. To use ArrowDtype, use pandas >= 1.5 and pyarrow >= 10.0.1.\n",
      "  warnings.warn(_RANGE_PYARROW_WARNING)\n"
     ]
    },
    {
     "data": {
      "text/html": [
       "<div>\n",
       "<style scoped>\n",
       "    .dataframe tbody tr th:only-of-type {\n",
       "        vertical-align: middle;\n",
       "    }\n",
       "\n",
       "    .dataframe tbody tr th {\n",
       "        vertical-align: top;\n",
       "    }\n",
       "\n",
       "    .dataframe thead th {\n",
       "        text-align: right;\n",
       "    }\n",
       "</style>\n",
       "<table border=\"1\" class=\"dataframe\">\n",
       "  <thead>\n",
       "    <tr style=\"text-align: right;\">\n",
       "      <th></th>\n",
       "      <th>id</th>\n",
       "      <th>title</th>\n",
       "    </tr>\n",
       "  </thead>\n",
       "  <tbody>\n",
       "    <tr>\n",
       "      <th>0</th>\n",
       "      <td>70906131</td>\n",
       "      <td>How to flow Net 6 Identity Authorisation to YA...</td>\n",
       "    </tr>\n",
       "    <tr>\n",
       "      <th>1</th>\n",
       "      <td>70750572</td>\n",
       "      <td>Clicking component inside renderHeader prop fo...</td>\n",
       "    </tr>\n",
       "    <tr>\n",
       "      <th>2</th>\n",
       "      <td>70807088</td>\n",
       "      <td>Create new column based on existing columns wh...</td>\n",
       "    </tr>\n",
       "    <tr>\n",
       "      <th>3</th>\n",
       "      <td>70854828</td>\n",
       "      <td>how to merge small dataframes into a large wit...</td>\n",
       "    </tr>\n",
       "    <tr>\n",
       "      <th>4</th>\n",
       "      <td>70901601</td>\n",
       "      <td>How do I add permissions to a NATS User to all...</td>\n",
       "    </tr>\n",
       "  </tbody>\n",
       "</table>\n",
       "</div>"
      ],
      "text/plain": [
       "         id                                              title\n",
       "0  70906131  How to flow Net 6 Identity Authorisation to YA...\n",
       "1  70750572  Clicking component inside renderHeader prop fo...\n",
       "2  70807088  Create new column based on existing columns wh...\n",
       "3  70854828  how to merge small dataframes into a large wit...\n",
       "4  70901601  How do I add permissions to a NATS User to all..."
      ]
     },
     "execution_count": 5,
     "metadata": {},
     "output_type": "execute_result"
    }
   ],
   "source": [
    "# load the BQ Table into a Pandas DataFrame\n",
    "from google.cloud import bigquery\n",
    "\n",
    "QUESTIONS_SIZE = 1000\n",
    "\n",
    "bq_client = bigquery.Client(project=PROJECT_ID)\n",
    "QUERY_TEMPLATE = \"\"\"\n",
    "        SELECT distinct q.id, q.title\n",
    "        FROM (SELECT * FROM `bigquery-public-data.stackoverflow.posts_questions`\n",
    "        where Score > 0 ORDER BY View_Count desc) AS q\n",
    "        LIMIT {limit} ;\n",
    "        \"\"\"\n",
    "query = QUERY_TEMPLATE.format(limit=QUESTIONS_SIZE)\n",
    "query_job = bq_client.query(query)\n",
    "rows = query_job.result()\n",
    "df = rows.to_dataframe()\n",
    "\n",
    "# examine the data\n",
    "df.head()"
   ]
  },
  {
   "cell_type": "markdown",
   "metadata": {
    "id": "j6022U1FWzpb"
   },
   "source": [
    "### Call the API to generate embeddings\n",
    "\n",
    "With the Stack Overflow dataset, we will use the `title` column (the question title) and generate embedding for it with Embeddings for Text API. The API is available under the [vertexai](https://cloud.google.com/python/docs/reference/aiplatform/latest/vertexai) package of the SDK.\n",
    "\n",
    "You may see some warning messages from the TensorFlow library but you can ignore them."
   ]
  },
  {
   "cell_type": "code",
   "execution_count": 6,
   "metadata": {
    "id": "pY8M4DqO8wGx",
    "tags": []
   },
   "outputs": [],
   "source": [
    "# init the vertexai package\n",
    "import vertexai\n",
    "\n",
    "vertexai.init(project=PROJECT_ID, location=LOCATION)"
   ]
  },
  {
   "cell_type": "markdown",
   "metadata": {
    "id": "jrG82n-y-EC5"
   },
   "source": [
    "From the package, import [TextEmbeddingModel](https://cloud.google.com/python/docs/reference/aiplatform/latest/vertexai.language_models.TextEmbeddingModel) and get a model."
   ]
  },
  {
   "cell_type": "code",
   "execution_count": 7,
   "metadata": {
    "id": "YVLHjSeOGoTu",
    "tags": []
   },
   "outputs": [],
   "source": [
    "# Load the text embeddings model\n",
    "from vertexai.language_models import TextEmbeddingModel\n",
    "\n",
    "model = TextEmbeddingModel.from_pretrained(\"text-embedding-004\")"
   ]
  },
  {
   "cell_type": "markdown",
   "metadata": {
    "id": "FqdVsgZDb_hc"
   },
   "source": [
    "In this tutorial we will use `text-embedding-004` model for getting text embeddings. Please take a look at [Supported models](https://cloud.google.com/vertex-ai/docs/generative-ai/embeddings/get-text-embeddings#supported_models) on the doc to see the list of supported models.\n",
    "\n",
    "Once you get the model, you can call its [get_embeddings](https://cloud.google.com/python/docs/reference/aiplatform/latest/vertexai.language_models.TextEmbeddingModel#vertexai_language_models_TextEmbeddingModel_get_embeddings) function to get embeddings. You can pass up to 5 texts at once in a call. But there is a caveat. By default, the text embeddings API has a \"request per minute\" quota set to 60 for new Cloud projects and 600 for projects with usage history (see [Quotas and limits](https://cloud.google.com/vertex-ai/docs/quotas#request_quotas) to check the latest quota value for `base_model:textembedding-gecko`). So, rather than using the function directly, you may want to define a wrapper like below to limit under 10 calls per second, and pass 5 texts each time."
   ]
  },
  {
   "cell_type": "code",
   "execution_count": 8,
   "metadata": {
    "id": "8HUb9u_P2VWW",
    "tags": []
   },
   "outputs": [],
   "source": [
    "import time\n",
    "\n",
    "import tqdm  # to show a progress bar\n",
    "\n",
    "# get embeddings for a list of texts\n",
    "BATCH_SIZE = 5\n",
    "\n",
    "\n",
    "def get_embeddings_wrapper(texts):\n",
    "    embs = []\n",
    "    for i in tqdm.tqdm(range(0, len(texts), BATCH_SIZE)):\n",
    "        time.sleep(1)  # to avoid the quota error\n",
    "        result = model.get_embeddings(texts[i : i + BATCH_SIZE])\n",
    "        embs = embs + [e.values for e in result]\n",
    "    return embs"
   ]
  },
  {
   "cell_type": "markdown",
   "metadata": {
    "id": "aK4eTSPfcEuh"
   },
   "source": [
    "The following code will get embedding for the question titles and add them as a new column `embedding` to the DataFrame. This will take a few minutes."
   ]
  },
  {
   "cell_type": "code",
   "execution_count": 9,
   "metadata": {
    "id": "FcqPvu4PluN1",
    "tags": []
   },
   "outputs": [
    {
     "name": "stderr",
     "output_type": "stream",
     "text": [
      "100%|██████████| 200/200 [03:37<00:00,  1.09s/it]\n"
     ]
    },
    {
     "data": {
      "text/html": [
       "<div>\n",
       "<style scoped>\n",
       "    .dataframe tbody tr th:only-of-type {\n",
       "        vertical-align: middle;\n",
       "    }\n",
       "\n",
       "    .dataframe tbody tr th {\n",
       "        vertical-align: top;\n",
       "    }\n",
       "\n",
       "    .dataframe thead th {\n",
       "        text-align: right;\n",
       "    }\n",
       "</style>\n",
       "<table border=\"1\" class=\"dataframe\">\n",
       "  <thead>\n",
       "    <tr style=\"text-align: right;\">\n",
       "      <th></th>\n",
       "      <th>id</th>\n",
       "      <th>title</th>\n",
       "      <th>embedding</th>\n",
       "    </tr>\n",
       "  </thead>\n",
       "  <tbody>\n",
       "    <tr>\n",
       "      <th>0</th>\n",
       "      <td>70906131</td>\n",
       "      <td>How to flow Net 6 Identity Authorisation to YA...</td>\n",
       "      <td>[0.01791410893201828, -0.011015533469617367, -...</td>\n",
       "    </tr>\n",
       "    <tr>\n",
       "      <th>1</th>\n",
       "      <td>70750572</td>\n",
       "      <td>Clicking component inside renderHeader prop fo...</td>\n",
       "      <td>[0.04276351258158684, -0.010969700291752815, -...</td>\n",
       "    </tr>\n",
       "    <tr>\n",
       "      <th>2</th>\n",
       "      <td>70807088</td>\n",
       "      <td>Create new column based on existing columns wh...</td>\n",
       "      <td>[0.03269980102777481, 0.0005084207514300942, -...</td>\n",
       "    </tr>\n",
       "    <tr>\n",
       "      <th>3</th>\n",
       "      <td>70854828</td>\n",
       "      <td>how to merge small dataframes into a large wit...</td>\n",
       "      <td>[0.030555550009012222, -0.04189810901880264, -...</td>\n",
       "    </tr>\n",
       "    <tr>\n",
       "      <th>4</th>\n",
       "      <td>70901601</td>\n",
       "      <td>How do I add permissions to a NATS User to all...</td>\n",
       "      <td>[0.006523601710796356, -0.013722614385187626, ...</td>\n",
       "    </tr>\n",
       "  </tbody>\n",
       "</table>\n",
       "</div>"
      ],
      "text/plain": [
       "         id                                              title  \\\n",
       "0  70906131  How to flow Net 6 Identity Authorisation to YA...   \n",
       "1  70750572  Clicking component inside renderHeader prop fo...   \n",
       "2  70807088  Create new column based on existing columns wh...   \n",
       "3  70854828  how to merge small dataframes into a large wit...   \n",
       "4  70901601  How do I add permissions to a NATS User to all...   \n",
       "\n",
       "                                           embedding  \n",
       "0  [0.01791410893201828, -0.011015533469617367, -...  \n",
       "1  [0.04276351258158684, -0.010969700291752815, -...  \n",
       "2  [0.03269980102777481, 0.0005084207514300942, -...  \n",
       "3  [0.030555550009012222, -0.04189810901880264, -...  \n",
       "4  [0.006523601710796356, -0.013722614385187626, ...  "
      ]
     },
     "execution_count": 9,
     "metadata": {},
     "output_type": "execute_result"
    }
   ],
   "source": [
    "# get embeddings for the question titles and add them as \"embedding\" column\n",
    "df = df.assign(embedding=get_embeddings_wrapper(list(df.title)))\n",
    "df.head()"
   ]
  },
  {
   "cell_type": "markdown",
   "metadata": {
    "id": "nB53SiJjVN6e"
   },
   "source": [
    "## Look at the embedding similarities\n",
    "\n",
    "Let's see how these embeddings are organized in the embedding space with their meanings by quickly calculating the similarities between them and sorting them.\n",
    "\n",
    "As embeddings are vectors, you can calculate similarity between two embeddings by using one of the popular metrics like the followings:\n",
    "\n",
    "![](https://storage.googleapis.com/github-repo/img/embeddings/textemb-vs-notebook/8.png)\n",
    "\n",
    "Which metric should we use? Usually it depends on how each model is trained. In case of the model `text-embedding-004`, we need to use inner product (dot product).\n",
    "\n",
    "In the following code, it picks up one question randomly and uses the numpy `np.dot` function to calculate the similarities between the question and other questions."
   ]
  },
  {
   "cell_type": "code",
   "execution_count": 10,
   "metadata": {
    "id": "lKs6jSu7NiM6",
    "tags": []
   },
   "outputs": [
    {
     "data": {
      "text/plain": [
       "array([0.26754652, 0.23296366, 0.28199686, 0.36517328, 0.27387248])"
      ]
     },
     "execution_count": 10,
     "metadata": {},
     "output_type": "execute_result"
    }
   ],
   "source": [
    "import random\n",
    "\n",
    "import numpy as np\n",
    "\n",
    "# pick one of them as a key question\n",
    "key = random.randint(0, len(df))\n",
    "\n",
    "# calc dot product between the key and other questions\n",
    "embs = np.array(df.embedding.to_list())\n",
    "similarities = np.dot(embs[key], embs.T)\n",
    "\n",
    "# print similarities for the first 5 questions\n",
    "similarities[:5]"
   ]
  },
  {
   "cell_type": "markdown",
   "metadata": {
    "id": "srM04lJBQp4w"
   },
   "source": [
    "Finally, sort the questions with the similarities and print the list."
   ]
  },
  {
   "cell_type": "code",
   "execution_count": 11,
   "metadata": {
    "id": "lTUVvj9FQlab",
    "tags": []
   },
   "outputs": [
    {
     "name": "stdout",
     "output_type": "stream",
     "text": [
      "Key question: Do Linux and macOS have an `OfferVirtualMemory` counterpart?\n",
      "\n",
      "1.0000 Do Linux and macOS have an `OfferVirtualMemory` counterpart?\n",
      "0.4902 python gives invalid argument error on OS level\n",
      "0.4602 Why cannot v8/nodejs allocate a max-size array if sufficient memory?\n",
      "0.4582 Passing a safe rust function pointer to C\n",
      "0.4499 programatically disconnect or change monitor settings on mac\n",
      "0.4437 getelementptr in LLVM IR\n",
      "0.4358 Link shared library from another directory\n",
      "0.4328 How does the command corresponding to [b* main of gdb] during dynamic debugging of IDA?\n",
      "0.4293 Can C++ boost be used in VxWorks 6.9 kernel space\n",
      "0.4280 How to set C++ version with Bazel in a cross platform way?\n",
      "0.4276 Accessing DDR memory address between (2GB-4Gb) through DSP DMA 64bit addressing\n",
      "0.4186 Couchbase with Azure Linux VM\n",
      "0.4183 What's the difference between a generic slice argument and an argument constrained to slice types?\n",
      "0.4162 Zombie vs Orphan process with sleep\n",
      "0.4152 Petit FatFs - pf_read() passes wrong arguments to disk_readp()\n",
      "0.4110 Format python virtual environment name with shell variable PS1 on bash prompt\n",
      "0.4079 Python msilib for mac\n",
      "0.4054 How to get UniquePtr<EnumMember> on the Rust side? (CXX crate)\n",
      "0.4050 Print out the number of cpu cores\n",
      "0.4049 Does Frama-C catch the UB of reading uninitialised stack variables?\n"
     ]
    }
   ],
   "source": [
    "# print the question\n",
    "print(f\"Key question: {df.title[key]}\\n\")\n",
    "\n",
    "# sort and print the questions by similarities\n",
    "sorted_questions = sorted(\n",
    "    zip(df.title, similarities), key=lambda x: x[1], reverse=True\n",
    ")[:20]\n",
    "for i, (question, similarity) in enumerate(sorted_questions):\n",
    "    print(f\"{similarity:.4f} {question}\")"
   ]
  },
  {
   "cell_type": "markdown",
   "metadata": {
    "id": "S75SQzAg1wHV"
   },
   "source": [
    "# Find embeddings fast with Vertex AI Vector Search\n",
    "\n",
    "As we have explained above, you can find similar embeddings by calculating the distance or similarity between the embeddings.\n",
    "\n",
    "But this isn't easy when you have millions or billions of embeddings. For example, if you have 1 million embeddings with 768 dimensions, you need to repeat the distance calculations for 1 million x 768 times. This would take some seconds - too slow."
   ]
  },
  {
   "cell_type": "markdown",
   "metadata": {
    "id": "0sjhTy-a47YH"
   },
   "source": [
    "So the researchers have been studying a technique called [Approximate Nearest Neighbor (ANN)](https://en.wikipedia.org/wiki/Nearest_neighbor_search) for faster search. ANN uses \"vector quantization\" for separating the space into multiple spaces with a tree structure. This is similar to the index in relational databases for improving the query performance, enabling very fast and scalable search with billions of embeddings.\n",
    "\n",
    "With the rise of LLMs, the ANN is getting popular quite rapidly, known as the Vector Search technology.\n",
    "\n",
    "![](https://storage.googleapis.com/gweb-cloudblog-publish/images/7._ANN.1143068821171228.max-2200x2200.png)\n",
    "\n",
    "In 2020, Google Research published a new ANN algorithm called [ScaNN](https://ai.googleblog.com/2020/07/announcing-scann-efficient-vector.html). It is considered one of the best ANN algorithms in the industry, also the most important foundation for search and recommendation in major Google services such as Google Search, YouTube and many others.\n"
   ]
  },
  {
   "cell_type": "markdown",
   "metadata": {
    "id": "xVOL8BgM2isz"
   },
   "source": [
    "## What is Vertex AI Vector Search?\n",
    "\n",
    "Google Cloud developers can take the full advantage of Google's vector search technology with [Vertex AI Vector Search](https://cloud.google.com/vertex-ai/docs/vector-search/overview) (previously called Matching Engine). With this fully managed service, developers can just add the embeddings to its index and issue a search query with a key embedding for the blazingly fast vector search. In the case of the Stack Overflow demo, Vector Search can find relevant questions from 8 million embeddings in tens of milliseconds.\n",
    "\n",
    "![](https://storage.googleapis.com/github-repo/img/embeddings/textemb-vs-notebook/9.png)\n",
    "\n",
    "With Vector Search, you don't need to spend much time and money building your own vector search service from scratch or using open source tools if your goal is high scalability, availability and maintainability for production systems."
   ]
  },
  {
   "cell_type": "markdown",
   "metadata": {
    "id": "uBt8tjidSzyU"
   },
   "source": [
    "## Get Started with Vector Search\n",
    "\n",
    "When you already have the embeddings, then getting started with Vector Search is pretty easy. In this section, we will follow the steps below.\n",
    "\n",
    "### Setting up Vector Search\n",
    "- Save the embeddings in JSON files on Cloud Storage\n",
    "- Build an Index\n",
    "- Create an Index Endpoint\n",
    "- Deploy the Index to the endpoint\n",
    "\n",
    "### Use Vector Search\n",
    "\n",
    "- Query with the endpoint\n",
    "\n",
    "### **Tip for Colab users**\n",
    "\n",
    "If you use Colab for this tutorial, you may lose your runtime while you are waiting for the Index building and deployment in the later sections as it takes tens of minutes. In that case, run the following sections again with the new instance to recover the runtime: [Install Python SDK, Environment variables and Authentication](https://colab.research.google.com/drive/1xJhLFEyPqW0qvKiERD6aYgeTHa6_U50N?resourcekey=0-2qUkxckCjt6W03AsqvZHhw#scrollTo=AtXnXhF8U-8R&line=9&uniqifier=1).\n",
    "\n",
    "Then, use the [Utilities](https://colab.research.google.com/drive/1xJhLFEyPqW0qvKiERD6aYgeTHa6_U50N?resourcekey=0-2qUkxckCjt6W03AsqvZHhw#scrollTo=BE1tELsH-u8N&line=1&uniqifier=1) to recover the Index and Index Endpoint and continue with the rest."
   ]
  },
  {
   "cell_type": "markdown",
   "metadata": {
    "id": "6pu1a3zjfQ0D"
   },
   "source": [
    "### Save the embeddings in a JSON file\n",
    "To load the embeddings to Vector Search, we need to save them in JSON files with JSONL format. See more information in the docs at [Input data format and structure](https://cloud.google.com/vertex-ai/docs/matching-engine/match-eng-setup/format-structure#data-file-formats).\n",
    "\n",
    "First, export the `id` and `embedding` columns from the DataFrame in JSONL format, and save it."
   ]
  },
  {
   "cell_type": "code",
   "execution_count": 14,
   "metadata": {
    "id": "GzZ30d4j_uLU",
    "tags": []
   },
   "outputs": [
    {
     "name": "stdout",
     "output_type": "stream",
     "text": [
      "{\"id\":70906131,\"embedding\":[0.0179141089,-0.0110155335,-0.046253413,-0.0126445824,0.0085479515,0.0518459119,-0.0137052182,-0.0337758176,0.0113211218,0.0065580453,-0.0133379651,0.0090589197,0.035920307,0.0591434315,-0.0586843826,0.0020763204,-0.0079884874,-0.0240689535,-0.0401416346,-0.0179450028,-0.0019610876,0.0024058283,-0.0243568979,0.0352886394,0.0054854909,0.0448555388,-0.0240339879,-0.0543881394,-0.0169236511,-0.0389861949,-0.0221426692,0.006573441,-0.0024865291,-0.0169443991,-0.0134543041,-0.0369861685,0.0085997218,0.0149910683,-0.0051319157,-0.0124089895,-0.0333546102,0.0199960563,-0.0202844273,0.0560309589,0.0419051908,-0.0198299978,0.0085145049,0.0209636427,-0.0295103192,0.0350839272,0.0784422308,-0.0297876578,-0.0070911027,0.0616875291,-0.039066948,-0.0077609075,0.0243691448,-0.0408206359,0.0038854568,0.0087229162,0.0332615599,-0.0274707638,-0.0303246863,-0.0357012898,0.0469269492,-0.0366564728,-0.0015397505,-0.0065115457,-0.0752783939,0.005143295,-0.0753472149,0.0060290359,-0.0468204878,0.0255306568,0.0041411961,-0.0211025681,-0.0226068608,0.001717896,-0.0081957988,0.0620464981,0.0446574911,0.0400350168,0.0113178464,-0.0347911902,0.0214364566,-0.0605763756,0.0497442819,-0.0827147588,-0.0112048592,-0.0530425273,0.0706838146,0.0467661172,-0.0317296237,-0.0188642722,0.0319720134,-0.010930581,-0.0201907679,-0.0813028589,0.059542641,0.042132549,-0.0399937592,0.0402869843,0.0103779472,-0.0555499494,0.0177720208,-0.0261162948,-0.0072835437,-0.0125147635,-0.0274746232,-0.0613501295,-0.0033980145,0.0737193301,0.0795237273,0.0131848166,-0.0228416696,-0.0126465764,-0.0099531794,-0.0168634839,0.0178112462,-0.025904268,-0.0183501076,0.0370586812,0.0414028279,0.0289034583,0.0149776852,0.0197885837,0.0205272641,-0.0117658377,-0.0629817247,-0.0037920582,0.07065323,0.0312787853,-0.0106247617,0.0487352125,0.0535588786,-0.0227304995,0.0258476976,-0.0466390215,0.0748004839,0.0356310047,0.0096979635,0.0197836515,-0.1221999675,-0.011173618,0.0308675542,-0.0139215253,0.0429300331,0.0789395198,0.0514235385,-0.0054725297,0.0096321981,0.0364167392,-0.0740481019,-0.0127930362,-0.0322776511,-0.0189462863,-0.0271195564,-0.0190880746,0.0383616425,0.0032536178,0.0683235899,-0.0390756391,0.0175195206,-0.0124730607,-0.016698204,-0.0413805954,-0.0355744362,-0.0361432657,-0.0177222677,0.0126509974,-0.031942226,0.0413125418,-0.0020068884,0.0139664002,0.000797148,0.0722264647,-0.0461577848,-0.0405649133,0.0356856398,-0.0424904823,0.0138769504,0.0269895867,0.004844768,-0.0678387433,0.0244887546,-0.028199004,-0.0396267101,0.0160532519,0.0500600822,0.0354068503,-0.0103379646,0.0184764247,0.0016262963,0.0183432903,-0.0954017565,-0.0101922899,-0.0142434807,-0.0193825606,0.0101825418,0.023415627,-0.0035583938,-0.064423807,-0.028552521,-0.1423598975,-0.0276073832,-0.0557894185,0.0055913851,-0.0346645564,-0.0065663611,-0.0376957022,-0.0156223495,-0.0412144214,0.0093383491,-0.0307126194,-0.0206808429,0.0162492543,0.024111988,0.0124808522,0.0484508872,-0.0360643864,0.0552769266,0.0081825312,-0.0377329029,0.0032358754,0.0371506289,0.0048981858,-0.0472268239,-0.0152336331,0.0244586337,-0.0419664979,0.0198823959,0.0543914512,-0.0245262515,0.0291812755,-0.0096268794,0.0517197959,0.014534751,0.0050956937,-0.0211397242,0.0079028709,-0.0659820661,0.0189984292,0.0141713116,-0.0514038093,0.0363065228,-0.0207572654,-0.0417282507,0.0080880718,0.0370439254,-0.0329139158,-0.0049584126,-0.0151679264,-0.0803760588,0.0107591264,-0.0745593384,-0.0415652134,0.0170411859,0.0224219933,-0.0114593534,-0.0109828785,0.0336267911,0.0227665193,-0.0289593991,-0.0820217282,-0.0485195182,-0.0266524516,0.0408037491,-0.046432551,0.0431612507,0.0100282468,0.0727301911,-0.0205526799,0.0252899677,-0.0301537402,-0.0159722548,0.0534625314,0.0291238409,-0.0561019257,-0.005416526,0.0124252262,-0.0193693638,-0.0274811052,0.0036076542,0.0472358651,0.0661173314,-0.0167638101,0.0031150123,0.0704922974,0.0129116494,-0.0446038321,0.0626881793,0.0153356902,-0.043846149,-0.0104070269,-0.0586759001,-0.028375553,0.0588060953,-0.0260455795,0.033895243,0.0062899427,-0.0052032289,0.0157619994,0.0447642505,0.0415701978,-0.0336055271,0.0528707542,-0.0417760424,-0.011639528,0.0033888272,-0.0214457512,0.0087667778,0.0021569626,0.0548144244,-0.0122638512,-0.0472762212,-0.028327886,-0.1222466454,0.0187039562,-0.0002204624,-0.0337416902,0.0404276811,-0.004345227,-0.0162065495,0.0243237484,-0.0327978134,0.0175712593,0.0232022665,-0.0450726487,0.0570839569,0.0293160155,0.0557829179,0.0670424998,-0.052590061,0.0222531222,0.0194959752,0.0477597304,-0.0108394232,0.0186544731,0.0797030553,-0.0251700692,0.0219391733,0.0545953549,0.0327447914,-0.0095906444,-0.0334956571,-0.0074838684,0.0368832238,-0.0223743543,0.012068768,-0.0154804243,-0.0352068581,0.0205760952,-0.045669198,-0.0128590455,0.0120871076,0.0120145027,0.0101698805,-0.0325106159,0.0367690846,-0.0420701578,0.0398869999,0.0340391137,0.0166019425,0.0132553214,-0.0053159264,-0.0034144854,-0.0049266196,0.0622088648,0.0072732628,-0.0136650736,-0.049318552,-0.040706683,0.0281902049,0.0527817048,0.0043078875,-0.0378851518,-0.0100377603,0.073292315,-0.0093981223,0.0074266377,0.0262245461,-0.036938604,-0.0214682184,0.0293146651,-0.0388542078,-0.0174809303,-0.0076043666,-0.012435114,0.0032168371,0.0216781553,-0.0675702244,0.07964205,-0.0429411121,-0.0474063754,-0.004931666,-0.045222301,-0.0002863341,0.0175995827,0.0314227864,-0.0175837204,0.0254990496,-0.0104917418,0.0161019508,-0.0484389253,-0.0114441309,-0.0437917523,0.0027291637,-0.0353289507,-0.0033246169,0.0682367831,-0.0005262987,-0.0255675633,-0.0110250805,0.0739599988,0.0230824463,-0.0260617454,-0.0018668023,0.0004468742,-0.0250975974,0.0107097924,-0.0180211645,0.0004783499,-0.073277168,-0.0304649342,0.0334183499,-0.0474992916,-0.042492006,0.022909876,-0.0008393874,-0.0289078038,-0.0216715485,0.0505204313,0.0283974335,0.0502908938,-0.022961542,0.0568542853,-0.0441695787,-0.0088385148,-0.0366951376,0.0254431386,0.0229867622,-0.0107938228,0.0646500513,-0.0060094004,-0.0180834197,0.0695502982,-0.0049636932,0.0666905046,-0.0049572415,-0.0100197606,0.0142023768,0.080013819,0.007699477,-0.0446766242,-0.0724603757,0.0203434024,0.0077822045,0.0367537215,0.0117236814,0.010922635,-0.0148604121,-0.0306787975,0.0300582107,-0.013309557,0.030116925,-0.0335899033,-0.0417414047,0.0610394068,0.0304735731,0.0167030971,-0.0068510552,0.0656605586,0.0215790402,-0.0300358869,-0.0341149606,0.0401333682,0.0170954801,0.0029984065,-0.0265754834,-0.0445929691,-0.0148887588,0.0245493967,-0.0116558904,0.0378320478,-0.0286224615,-0.064162299,0.0102744903,0.0079035303,-0.0055635679,-0.0659818053,-0.0409822129,-0.0104334289,-0.0570485443,-0.0463644415,-0.0539636761,0.0125297019,0.033353623,-0.0304965768,0.0059684818,-0.0007429289,0.0042321798,0.024778435,0.010365027,-0.0126886666,-0.060288094,0.0000701465,-0.0315175876,0.0182592142,0.0573535599,0.0428011566,0.0608897023,-0.0748045668,-0.0097077629,0.0140214656,-0.0199481435,0.0035432824,0.0074350946,0.03015876,0.0205396414,0.0526310131,-0.0740316957,-0.0383117199,-0.030828502,-0.0540098846,0.0017127884,-0.0521555766,0.0015500162,0.0074780737,0.0150259584,0.0035155418,-0.002367202,0.0378315747,0.0263583269,0.0294095073,-0.0229051374,0.0703625157,0.0360772312,0.0102418279,0.0327611715,-0.0513321683,-0.0334844328,-0.0381614119,0.0193972755,0.0234959144,0.0157956537,0.0092662154,0.0279007331,0.0647691339,-0.0029559794,-0.0137876561,-0.0366583467,-0.0205723103,0.025639873,0.022753654,0.0262447838,-0.0006631093,-0.0671981946,-0.0049929111,0.0162895918,-0.0035506603,0.0466648079,-0.0174283944,-0.0308666956,0.0375805758,-0.0456461087,0.0086323712,-0.0068928758,0.0533883795,-0.014505229,0.0365669392,-0.0431108065,-0.0419101305,0.002520659,0.0352805294,-0.0075689838,0.0215699673,0.0146270879,-0.0062557207,0.0258903783,-0.0195171572,-0.0118901758,0.0319845267,0.0591420941,0.0566404946,-0.0108700106,0.0426399522,0.0274851453,-0.0158485454,0.0212016515,-0.0190272424,-0.0023585341,-0.0283729527,0.0086731901,0.0365727507,0.0101217115,-0.0034832696,-0.0579582043,-0.0479925461,0.0213563088,-0.0292657539,-0.0848706439,0.0052446336,-0.0027572887,-0.0147085376,-0.0645371974,-0.0266062375,0.0298404898,-0.0732915699,0.0008045178,-0.0060777632,-0.0237996839,0.0470005535,-0.0407212526,-0.0311951172,-0.0750299469,0.0284689236,-0.0216580816,0.0052050813,-0.0674359277,-0.0205896944,0.011409794,-0.0355024971,0.0025245936,-0.0212472584,-0.0199357159,-0.006132192,-0.0115084127,0.028384665,0.0116621284,0.0298928656,-0.0165732354,0.043793425,0.0009896084,0.0012204861,-0.0220448487,-0.0259577576,-0.0332408473,-0.0107045472,-0.0380221941,0.0056787636,0.044407811,-0.0187677015,0.0940229967,-0.0188605264,-0.0251417235,0.044429455,0.0713653639,0.0045122127,0.0164135844,0.0349067338,-0.0347502194,0.0845331624,-0.0145961232,-0.018852355,0.0003693934,-0.0272152312,-0.0309457928,-0.0233086552,-0.0292995907,-0.0260992423,-0.0172288325,-0.0668857992,-0.0927017555,0.0138429906,-0.003651134,0.0151662752,-0.0563538335,0.0431971177,0.0298957434,0.0369051024,-0.0119747818,-0.0052016969,0.0077755256,-0.0047695814,0.0000669733,-0.0205967072,0.00476743,0.0558445863,0.0424448326,0.0355945528,0.0524719357,-0.0096810386,-0.0194919743,0.0042014793,-0.0315200016,0.0080064982,0.0227263942,0.0117407171,-0.0023127201,0.0175889954,0.0455607884,0.0349077694,-0.0295456182,0.0066195861,-0.066049464,0.0163542591,-0.053360559,0.0084563307,-0.0243351981,-0.015063066,0.0041455715,-0.0252180919,-0.013171792,-0.0072449739,0.0083008911,-0.0513040535,0.0504880957,0.0433349758,-0.0208911095,-0.0348430946,-0.0435071476,0.0444842428,0.0452735126,-0.031548012,0.0039447439,-0.0476326235,0.0193151962,0.0406599715,0.0262860004,0.0021361725,0.0261389092,-0.0777200013,0.0788111985,0.0038237378,0.0418379046,-0.051530268,0.0420317799,-0.0441283397,-0.0339009911,-0.0279252268,0.0014654042,0.0353069454,-0.0194118824,0.0656832978,-0.0240061209,-0.047340285,-0.0396652669,-0.0191415157,-0.0322379693,0.0261188671,0.0253900457,-0.0312901996,-0.0310091339,-0.0218344312,-0.0678139254,-0.0010968096,-0.0027890035,0.0061378097,-0.0174853541,-0.0245265421,0.0048162136,0.007645152,-0.0028830869,0.0521655194,0.0067873043,-0.0285391938,0.0057440181,-0.0289751925,0.0736064687,-0.0339920595,-0.0644471496,0.0209677871,-0.0515652373,0.0318104178,-0.0385045856,0.0167442355,-0.0087365592,-0.0663718358]}\n",
      "{\"id\":70750572,\"embedding\":[0.0427635126,-0.0109697003,-0.0707579628,0.0366518125,0.0563928373,0.0716197714,0.0089182891,-0.0236503202,-0.0152151501,0.022052519,-0.0115496349,0.0774333626,0.0437068976,-0.0172280632,0.034860801,0.010285099,0.0357183442,0.0006963178,-0.043689575,0.0359438546,-0.0244678389,0.0180340391,-0.0479304008,0.0709191859,0.0216860007,-0.0569913089,0.03581753,-0.0007344159,-0.0329965577,-0.0157272276,0.035776373,-0.0161581412,-0.0249879919,0.0042875069,-0.0262705386,0.0123264808,-0.044955615,0.0390639678,-0.0261735097,-0.0291166604,-0.0604208857,-0.0162514523,0.0397379063,0.0041853208,0.0077051381,-0.005405935,-0.0413092151,0.0071240333,-0.0111488905,0.0152373267,0.0065380405,-0.0013782531,-0.0450429469,0.0306074284,-0.0153855719,-0.01151249,-0.0150904134,0.037499506,0.0646275654,-0.0073471437,0.0397038832,-0.021591587,0.0319717899,0.0292268284,-0.014215677,-0.0699737445,-0.0716361776,0.0044411961,-0.0567515381,0.0047219032,-0.0442580357,0.0422047935,-0.0282109529,-0.0130139673,-0.0493526421,0.0004817462,-0.0281605944,-0.0153393056,0.034071736,0.0292626806,-0.0580511652,0.0214416031,0.0252439175,-0.0036567326,-0.0268124714,-0.0131411487,-0.0102569135,-0.0543195605,-0.0210946668,-0.0543825291,0.0920040905,-0.0118024005,0.0183985028,-0.0663724914,0.0653913319,-0.00424643,-0.0639282912,-0.0318938866,0.1133805364,-0.0204560794,-0.0041060462,0.0408064723,-0.064492166,-0.0361994468,0.034023717,-0.0590284094,-0.067172192,-0.0086317286,-0.0218523312,-0.0447959341,-0.0097526386,0.0475341752,0.0177448094,0.0379617251,-0.0336438343,0.0018906273,0.0339533016,-0.0114903077,-0.0097422563,-0.0043801088,-0.0254029594,0.0214384124,-0.035310857,0.0823673606,0.0470109135,-0.0400793217,0.0603740141,-0.0266081337,-0.0507227331,-0.038426701,0.0045597418,0.0210689716,0.0043357145,-0.0180675592,0.0647021309,0.0035536194,-0.0320700146,-0.0443645045,0.0414432622,0.0411919393,-0.0515753068,-0.0133871343,-0.0303207152,-0.0261077583,-0.0323885418,0.0042697503,-0.0750615448,0.0616503544,0.0933973417,0.0219312795,-0.0389992818,-0.0170693733,0.0278549306,-0.0254366994,0.0290714111,-0.0230737533,-0.0075278995,-0.0340253599,0.0471383184,0.0148656266,0.0197700635,-0.0208802614,0.0002071351,0.0282739028,-0.0397771783,-0.0203683134,0.0063021719,-0.0457276516,0.0731215402,0.027438039,0.0041040843,-0.0666002631,-0.0169459451,-0.0119713442,-0.0061658253,-0.0074838642,-0.0420204736,0.0160223264,-0.0444291085,-0.0225973129,0.0610666163,0.0334267505,-0.0338965617,-0.0414034165,0.0141562186,0.0349364318,-0.0120683126,-0.029471213,0.0074007739,0.0674433857,0.0215962492,0.0132894237,-0.0043093511,0.0346584693,-0.0306137949,0.0253419112,-0.0326213241,0.0141169289,-0.0148937842,-0.0052106329,0.0143230166,-0.0655950457,0.0630123541,0.0041915379,-0.0164885558,-0.0194592364,-0.0052826749,0.0321949385,-0.0241485685,0.0245844759,-0.030143844,-0.0173248518,-0.0388464816,-0.0387675725,-0.0217450131,-0.051617723,0.0140840709,0.0073031122,0.0225879699,-0.0145060569,-0.0275527332,0.0308217444,-0.006805955,0.0412755571,-0.0415113196,0.0040220204,-0.0633330196,0.0091227917,-0.0167111456,-0.0068618939,0.0258531123,0.0089421701,0.0113727385,0.0052616936,-0.0260234214,0.0414014757,-0.0467997231,-0.0390700437,-0.0497466512,0.0281625334,-0.0485236347,0.0166450627,-0.0162664112,0.0148878675,0.0140504399,-0.0194905717,0.0073978589,-0.0140305366,-0.0227942914,-0.0520446114,0.042068284,-0.015596861,-0.0262582842,0.0382701047,0.0506490432,0.0248427428,0.035342712,0.0526725911,0.0401623957,-0.0076937443,0.0444540754,-0.0246711392,-0.0103229638,-0.0028910041,0.0235154238,-0.0674430728,-0.0220433455,-0.0386544429,-0.0140166609,0.0370847173,-0.0023936958,-0.0483080223,-0.0067286585,-0.0408307053,-0.0534621291,0.0716372356,-0.0066109812,-0.015307676,-0.0253157634,-0.0207418557,-0.0243462343,-0.005509194,0.0216887239,0.0336018987,0.0021026495,-0.0405238047,-0.0067727924,-0.0140714059,0.0579875857,-0.0145766465,0.0073026647,0.0444788896,-0.0478529297,-0.0572441667,-0.0333829001,0.025765352,0.0381268524,-0.0085142925,0.0492222458,-0.0306145027,0.0199933592,0.0365814306,0.0324150212,0.0540988818,0.0170682594,0.0139434934,-0.025889216,-0.0355799682,-0.0119690588,-0.0049958257,-0.0215517581,-0.0246578585,-0.0361854732,0.0213195775,0.0087193782,-0.008131586,-0.1360681057,0.0126894899,-0.0545926802,-0.0037310019,0.0117967669,-0.0372375548,-0.0807575658,0.0317147449,-0.0359080434,0.0109657226,-0.0170738064,0.045914717,-0.0254188012,0.0320965312,0.1051647067,0.0114000309,-0.0013417584,0.0175368693,0.012149239,0.071473144,0.0094192419,-0.0188211221,0.0616718903,0.0024359173,0.0659477264,0.0030449627,0.057559222,0.0258494001,-0.0160179269,0.0006489212,-0.0309510678,0.0570469424,0.0042396449,0.0622671135,0.0420581698,-0.0114616938,0.0060040066,-0.042352736,-0.0039976398,-0.0104403114,0.0231625643,-0.0326112024,0.0882503018,0.0006381475,-0.0247581042,0.0376036689,0.0144532677,0.041364301,-0.0081233894,0.008502421,0.0082773333,0.0095878225,-0.030362295,-0.0427915789,-0.0478869602,-0.0127624786,-0.045476336,-0.0128068384,0.0014377841,0.0180903748,-0.0437624641,0.0483020581,0.0129442886,-0.012257982,-0.0233339127,-0.066841729,0.004090969,0.050737638,0.033611726,0.0490964949,-0.0314170867,0.0161702633,-0.0471595675,-0.0055207512,-0.0214251298,0.0379957408,0.0494669825,-0.0425838344,-0.0617953688,0.0251190532,-0.033757735,0.0451190621,0.0662018135,-0.0151279103,-0.0241371319,-0.0619568899,0.0018448177,-0.0875980854,0.0136749269,0.0047220974,0.0416529141,-0.0293769687,-0.0281152949,0.0170294121,0.021437237,-0.0539993159,-0.0675240085,0.0208676308,0.0218719747,-0.0174936969,-0.0326321349,-0.0057197595,0.0021937203,0.0363743454,-0.0149269467,-0.0115435114,0.0481319949,-0.0218439829,0.0304947738,-0.0245969687,0.0459117666,-0.0156443864,-0.0268389899,-0.0460409485,0.0603481345,0.0277904421,-0.0423841514,0.0265184231,0.0069387248,0.0223453324,-0.0117728002,-0.0385431387,0.0209658351,0.0161319003,0.0443544239,0.0237861276,0.0508638471,0.0089736199,-0.0057832748,0.0524628833,0.0372571312,0.0446794219,0.0093533387,-0.0389380641,0.0089486735,0.0354668312,-0.0215700157,-0.040907912,-0.0999218747,-0.0501874834,-0.0188629068,0.068567574,-0.0552838556,-0.0236427635,0.0864024833,-0.0347030982,-0.0300727114,-0.0545616783,-0.0105876308,-0.03413333,-0.0514496528,0.0199819803,-0.0084685376,-0.0204764102,-0.0236716308,-0.0348302163,-0.0003714499,-0.0023726923,0.0307933614,-0.0529077835,0.0396042392,-0.0029842195,0.0154222334,-0.0621346533,0.0111269141,-0.0187288988,-0.0148491561,-0.0109608741,-0.0415997952,-0.0499004424,-0.0153125953,-0.0192743987,0.0150895473,-0.0250365902,-0.0211285111,-0.0458749458,-0.0218904018,0.0108539555,-0.0030326676,-0.0400004201,0.0496091917,-0.0289620552,-0.0465578735,0.0323444866,0.0343574174,-0.0342979096,-0.0286897048,-0.0424828678,-0.0556177348,-0.0326887667,0.025995126,0.0670689791,0.0657722875,0.0081453696,0.0396193787,0.0160506833,-0.0724717081,0.0397378244,-0.0254537743,-0.0118686147,-0.0019884249,-0.0199095774,0.0222216025,-0.0078603486,-0.0629568994,-0.0038421983,0.0320756659,-0.0459196456,-0.0129574081,-0.0167159233,-0.0451493636,0.0229541752,-0.0068921731,0.0558591262,-0.0252100285,0.0172302853,-0.0137188723,-0.0030845171,0.0580944978,0.0692226961,0.0706822202,0.0241571665,-0.057865873,0.0218772124,-0.0233170707,0.0359463766,-0.028290391,0.0165045429,0.0148371309,-0.024437692,0.000597159,0.0113889175,0.0272292495,-0.0108888773,0.0348752402,-0.014231707,0.0976200625,0.0510883108,0.0179941803,0.0458081625,-0.0438148528,0.0489630699,0.031698972,-0.0248171706,0.0185042936,-0.0120110707,-0.0105388612,0.0181187335,-0.0008081147,0.0018315967,-0.0123114791,0.0858752951,-0.0130239315,0.0396831855,-0.021233324,-0.0402618013,0.0698367879,-0.061931476,-0.0211670138,-0.001022506,0.0350101516,0.0079163136,-0.0075628599,0.0054197623,-0.0291275829,0.0235126019,0.0679616779,0.0507413968,-0.0600876398,0.0061619952,0.0281038396,-0.0237045884,0.0075486959,0.0517905615,0.0258608647,-0.0295857918,0.0179558694,-0.0803304911,0.0455919541,0.025572177,-0.0265102684,-0.0121699758,0.016283188,0.0102084354,0.0555128381,0.0663727373,-0.0144093791,0.0001342793,0.0314447619,-0.0424669124,0.0667466745,-0.0604747273,-0.0769867003,0.000410144,0.020431703,0.0439741984,0.0122825401,0.0071696336,-0.0484638624,0.0771750882,0.0006123331,-0.0136538697,0.0146296257,0.0345358029,-0.013015016,-0.0120599745,0.028034592,0.0428191349,-0.0089720655,0.0124778822,0.0565125793,0.0131901847,0.0231844056,0.0173400044,0.030096164,0.0356852338,-0.0000412286,-0.0342389792,-0.0065718903,-0.0929061398,-0.0013977475,-0.0192494784,-0.008332869,-0.0234752744,-0.023958046,-0.0075410046,0.0181768928,0.0230577756,-0.0674641132,0.039165698,-0.0458491854,0.0940289572,0.0055036899,0.005205988,0.0326837152,-0.007500154,-0.0315093733,-0.0174070876,-0.0490433685,0.0046957913,-0.0372143723,0.0038504922,0.0228677727,-0.0444309562,0.0391354039,-0.0329809859,-0.0600692742,0.0287529528,0.0188699365,0.0413813889,0.0117866956,0.0402685851,0.0274419934,-0.0408209078,-0.0131474882,0.0332207605,-0.0031992726,0.0687504038,0.0138445627,-0.023329556,0.0249904133,0.026628498,0.0002988489,0.0248606037,0.0305989776,-0.0329158567,0.0234575346,0.0584701784,0.0456233807,0.020706702,0.0218180064,-0.0252898652,0.0561421998,-0.0161222648,0.0270736851,-0.0481995642,-0.0596868694,0.0539395474,-0.0138073685,0.0225353017,-0.0135047771,0.0225606002,-0.0483781807,0.0016045803,0.0464698784,-0.0143081518,0.0413775519,-0.0156160807,0.0276174359,0.0058436985,-0.0015571291,0.0116268573,-0.0133927297,0.0503241345,-0.0021233724,0.0124996705,0.0117238155,-0.0045836419,-0.0055095726,-0.0078865942,-0.0099806804,0.0155446101,0.0366171561,-0.0094437832,0.0555416234,-0.055905465,0.0724564865,-0.0085238768,-0.0156747308,0.0338221565,-0.0176438056,-0.024996629,-0.0110050803,0.0922442749,0.0195166916,-0.0008257077,-0.0342059284,0.0482616611,-0.0120766833,0.0532950908,0.0004986768,-0.0200765319,0.0003893722,-0.0248967465,0.0152588449,-0.0128707048,-0.0244502202,0.0215670299,-0.0457375683,0.0093065109,-0.0132543882,-0.0188658554,0.0119368518,-0.0077199605,-0.0209544562,-0.0635847673,-0.007298802,0.0587954149,0.036985226,0.0073554986,0.0419737175,0.0241281707,0.0149557469,0.0327752195,-0.0261136927,0.0477446429,-0.0164978001,-0.0205069091,-0.0040922184,-0.0333739221,0.0022514993,-0.0184562672]}\n",
      "{\"id\":70807088,\"embedding\":[0.032699801,0.0005084208,-0.1082703173,0.0113479299,-0.0078023686,0.0286943372,0.0149909323,0.0228984039,0.0032190611,-0.0163273122,0.0079481304,0.0942754373,0.0303632841,-0.0222711507,0.0389496386,-0.0213632826,0.0440458506,0.0542541519,-0.012661186,0.0158610083,0.0084228097,-0.0308789015,0.009544543,-0.0339922346,-0.0539423786,-0.0288318377,-0.0053238766,-0.0650888905,-0.0162624475,-0.0366607755,0.0512425713,0.0271887816,-0.0266948584,-0.0312156118,0.0118136778,0.0107640577,-0.0089659458,-0.003229694,0.0473458581,0.0154451113,-0.024926506,-0.0581034832,-0.038197428,0.026270831,-0.0327837355,-0.0144800451,0.0475305915,0.0217193197,-0.0179208759,0.0124341231,0.0519458354,0.0493285134,-0.0145667447,0.0212724414,-0.0499059707,-0.0146783311,-0.0646928847,0.018752113,0.0783458725,0.0188573673,0.0160421617,-0.018804824,-0.0082921674,-0.0413194858,0.0447017998,0.0188529994,-0.008449004,0.0027060551,-0.0598143488,0.0379601046,0.0087319268,0.0497782677,-0.0385219641,-0.0012536832,-0.0319154412,-0.0056064758,-0.0263323095,0.0166748594,-0.0174016021,-0.0028286092,0.0214387942,0.02102248,0.0307177957,0.0114308959,0.0118983164,0.0085631805,-0.0130036799,-0.0799710006,0.0083190203,-0.0752266869,0.0572471432,-0.0152905239,-0.0040397886,0.0104194181,0.0356083848,-0.0060072676,-0.0324963145,-0.0574167594,0.0207243152,0.0025762909,-0.0382983871,0.0036578835,-0.0557056777,-0.0850390568,0.0758042559,-0.0596524253,-0.0594171286,0.0194940083,-0.029108135,0.0385921709,0.0532345213,0.0314800367,0.0209852662,0.0072368146,-0.0108604031,-0.0069266935,-0.0351831019,0.0133181596,-0.0437224358,-0.0258893501,-0.0110441549,0.0241070203,-0.0098082507,0.0745130032,0.0022351302,0.0094377808,0.0574380606,-0.0116337175,-0.007835866,-0.0909275264,0.0896724686,0.0523771606,0.0045925905,-0.0410155654,0.0667789057,-0.0076351115,-0.0203112643,0.0613497086,0.0074437815,0.0384179503,0.0180522744,-0.0030750474,-0.1061369926,-0.0038721322,-0.0017899083,-0.0778298676,-0.0028201283,0.0263764765,-0.0199538451,0.0075033787,-0.0387380123,-0.0310032647,-0.0395209566,-0.0268814135,-0.001125037,-0.0235578343,0.0534310676,0.0188705884,0.0168056879,-0.0697764978,-0.0437710136,-0.0359936953,0.0037442015,-0.0045840028,-0.0005447053,0.0006716427,0.0170551017,-0.0161115639,0.0165241417,0.0650868714,0.0038350159,-0.0247600898,-0.0510001443,-0.028172493,0.0042037601,-0.0015891994,-0.0365404449,0.0196524281,0.0496286452,0.0611633025,0.0295271669,0.0869839862,0.0172036048,-0.0617508218,0.004606585,0.0265668593,-0.0144809857,0.0244853403,0.0079483986,0.0427581556,0.0349432901,0.012416563,0.020845037,-0.0413443148,0.013711228,0.0031179602,0.0201522615,-0.0639731959,-0.0086964658,-0.0262382701,0.0548884645,-0.0611626953,-0.0259960908,-0.0157892201,0.0133127049,-0.0472874269,0.0025817335,-0.0329938941,0.0607274584,0.0515708774,-0.0623467006,-0.0393667556,-0.0086597679,-0.0449855253,0.0309666991,-0.0186317973,0.0323162712,0.046073813,0.0738725141,0.0073447996,-0.001013945,-0.0071625882,-0.0091169709,-0.0056551667,0.0032205,-0.0066380776,0.0275210831,0.0536520705,0.0002050818,-0.0309020076,0.0548212826,0.0443048775,0.0323286466,0.0003237167,-0.0405858047,-0.0172563922,-0.0200902261,-0.0076461448,-0.015041464,0.0358107165,-0.0091936812,-0.0110596353,0.0214347672,0.0674713999,-0.021427298,-0.0095557366,0.0382935032,-0.0089341132,0.0704004019,-0.0557241216,-0.0301446952,-0.0355698839,-0.004021293,-0.011684522,-0.0166468099,-0.0452474654,0.005712009,0.0125618763,0.007979109,0.0053104823,0.0322278924,-0.015847465,-0.0109951086,-0.0668441132,-0.0013960981,-0.0533018969,-0.0007176618,-0.0118055139,-0.022992881,0.0200132765,0.0252937246,0.0394681916,-0.0197558124,-0.0545463115,-0.0384539627,-0.0004425698,0.0267339442,0.0775675997,0.0312243812,-0.0528176762,0.0869333148,-0.0237311814,-0.002825767,-0.0479199328,0.0332298763,-0.069436267,-0.0047238315,0.0017303932,-0.0244084559,0.0198080596,-0.0085280398,0.0086652962,-0.0737471506,-0.0451787189,-0.0342191234,-0.0151138613,0.0027249402,0.0930605158,-0.0153985964,0.0331562795,0.0492101498,0.0188125484,-0.010490031,0.080384098,-0.0460471027,0.0060717617,-0.0275929775,0.0141574815,0.0297275204,-0.0046978127,0.0412218608,-0.0177467633,-0.0280069597,0.0560340434,-0.0825344101,0.0266572833,-0.1014003158,-0.0431806184,-0.0101867635,0.0460925959,0.0184118971,0.0117966188,-0.0137070408,0.0649087057,0.030008303,-0.0529260077,0.0303552002,-0.0240974184,-0.0271902662,0.0503552444,0.0329743326,0.0031017594,-0.0350810066,-0.0696362257,0.030922683,0.0020880178,-0.0154226124,0.0251000803,0.025568122,0.017907409,0.0130158458,0.0174827855,0.0601233356,0.0267172195,-0.0428318195,-0.0262595247,-0.0417320207,-0.0046560466,-0.0048498749,-0.0101038525,0.0049461508,-0.0032297373,-0.063865155,-0.0418745205,0.0127237309,0.0241642445,-0.0185254719,0.008092206,-0.0051136441,0.0356695428,0.0231929943,0.0026795431,-0.0257506017,-0.015205971,-0.0259194542,-0.0205165446,-0.0201766957,-0.0018429318,-0.0348060243,-0.0685829446,-0.0268171243,-0.0604893342,-0.0094778407,-0.026928464,-0.0279454924,0.0074568721,-0.04455176,0.0022552393,0.0631872714,0.0165719371,-0.0550347529,-0.0459472761,-0.0004995133,-0.0246058349,-0.0132964654,0.0473606139,0.0247913692,0.0379569232,-0.0717495382,-0.013466279,0.016164314,0.0478204116,0.0508276299,0.0418516248,-0.0140808346,-0.0004448119,0.0145338131,0.0065408694,0.0111481585,0.0111510223,-0.057058569,-0.0507128872,0.0156214572,-0.0329789855,0.0375581682,-0.029236339,0.0549753681,-0.0239014924,0.0008469572,0.014765312,0.0281408317,0.0337044001,-0.0831361115,0.0269391183,0.0502963103,-0.0161651243,-0.0273294263,-0.0024403059,-0.0158594511,-0.0071439231,0.0181773417,-0.0086131878,-0.0112925004,-0.015232211,-0.0352346711,-0.035473492,0.002686851,0.0125490911,-0.0328942798,0.0061128042,0.0575238466,-0.0153669147,-0.0188535564,-0.0052537792,-0.0017262868,0.0422593504,0.0224851053,-0.0297524892,0.018843485,0.0697107017,0.0206662267,-0.0226028152,0.0284080952,0.0332066678,-0.0350724161,0.0813003108,0.0171664618,0.0193750896,0.0187416021,-0.027137503,0.018015936,-0.0328812823,0.0499240421,-0.0165556502,-0.0636318997,0.0089853154,-0.0246685185,0.0152479792,-0.0107433358,-0.0267567579,0.0120119723,0.05192158,0.0691055804,-0.0438701697,0.0481358021,-0.0441936143,-0.1004629433,-0.0385354646,-0.0313212872,-0.037155088,0.0278288219,0.0193664283,0.0267644189,0.0380155928,-0.0432878025,-0.0011781871,0.0824933127,0.0126530873,-0.0142543744,-0.0419273116,-0.0757702887,0.0104956618,-0.0270759501,0.0292721279,0.0008534002,-0.0021165034,-0.0037613662,-0.0147137363,-0.0276628807,0.0101539399,-0.014269406,-0.0042729392,-0.0796758384,-0.0082651479,0.0054851435,-0.0365327187,0.0122677675,-0.0321720839,-0.0237831604,0.0197680388,0.0299053825,-0.0109936362,-0.0042478396,-0.076775834,-0.0380311646,-0.0659019426,-0.0141064133,0.0077867089,-0.0293668136,-0.0498888604,0.0667037293,-0.068326056,0.0061867558,0.016431462,-0.0712849721,0.0465592742,-0.0410604142,-0.0451902337,0.0292220544,-0.0132091548,-0.0055053849,-0.0089396974,0.0390765816,-0.0352585576,-0.0188651886,0.0127602192,-0.0073598349,0.0431053229,0.0457736403,-0.0099611627,-0.0221902803,-0.0149207916,0.0499472879,0.0006554584,0.0181911681,0.0202840921,0.0475354008,0.0158164334,0.0185283832,0.0447022878,-0.0168678109,-0.0045844237,0.02282135,0.0581190027,-0.0243444592,-0.0401458479,-0.0424403697,0.0022426515,-0.0592575893,0.0319295265,-0.0154234469,-0.0212673619,-0.0447421595,0.003298573,0.0110422513,-0.046399463,-0.020234026,0.0153088514,0.0128487442,-0.05474893,0.0059795841,-0.1028665081,-0.0026970385,0.032154616,0.0029947888,0.027907066,-0.046175044,0.0012705438,-0.0684636757,0.0220442992,0.0379250273,-0.0318297818,0.0034772954,-0.0296890642,0.0049985726,0.0099252192,0.0002068717,0.0043299212,0.0028042414,-0.0107223466,-0.0328244157,-0.0210804939,0.0482608341,-0.0025850746,-0.0398717001,-0.0124521833,0.040260613,-0.0085899662,0.0057498422,0.0042757643,-0.0566271134,-0.0541439094,-0.0166533012,-0.0284362547,-0.0107467789,-0.0436687917,0.0094908178,0.0137345446,0.0813580751,0.0147727635,0.0226025358,-0.0328185558,0.0580829307,-0.0455833599,-0.0430531092,-0.0629002601,-0.0096712355,-0.0700674728,-0.0303082652,0.0119854528,0.0096456483,0.0301812217,-0.0401876234,0.0186573938,-0.0489828326,0.0042698351,-0.0213908944,-0.0232056696,0.0074210148,0.0516436175,0.0354728214,0.068462953,0.0400073938,-0.02721183,-0.0241390578,-0.0143463602,0.0226479676,0.0350198299,0.046890147,0.0174963865,-0.0181550439,0.0454798453,0.0180738177,0.0125039332,0.0060298028,-0.1045978814,-0.0018735069,-0.0206111223,0.0317123793,0.0209539738,-0.0271199998,0.0364837982,0.0362936817,-0.0195635073,-0.0642561987,0.1091250554,-0.0225308426,-0.0410451256,0.0048502707,0.0596815608,0.0619056933,-0.0048153899,-0.0102448547,0.029429011,-0.0547433458,0.0599734932,-0.0441797189,0.0047023771,-0.0236033853,-0.0223132838,0.0043956027,-0.0236136001,-0.045044031,-0.0066337441,-0.0076272977,0.0628156886,-0.027463505,-0.0531872287,0.0164636932,0.0155663667,0.0064780554,0.0142162871,-0.0467645042,0.0177074447,-0.0098648677,-0.0600787066,0.0432462692,0.026840806,0.0046230927,-0.0107051805,-0.0069906381,-0.0366502553,0.0167925134,-0.0110842045,0.0381346643,-0.0017834594,0.0044232043,-0.0272410791,-0.0061649652,0.007436302,0.0433361605,-0.0155299827,-0.0253846925,0.0552882329,0.0115703223,0.0802728236,-0.0101344232,0.0164408516,0.0506296121,0.0035961147,0.0306925308,0.0181988813,-0.0064509884,0.0002896586,-0.023845274,-0.0384114347,0.0073782112,0.027974017,-0.0011245495,0.0265150592,0.0070596086,0.0360720046,0.0329896882,-0.0265652128,0.0120916758,0.0486790761,0.0033733253,0.0813691467,-0.0247639101,-0.0002228268,0.0439113975,-0.0335838273,0.0496993363,0.0301841553,0.0209923368,-0.0014034029,-0.0778334737,0.0165897924,0.0108070783,0.0189662799,-0.0108695244,0.0197710171,0.0236166511,0.0045062429,-0.0182154719,0.0211556125,-0.0828436837,0.021733325,0.0049470738,-0.0713340715,0.0361655802,-0.0263693482,0.0282787066,-0.0021735714,-0.0401689187,0.0520053357,-0.0135298558,-0.0525044575,0.0072143027,-0.0447207429,-0.0219785627,0.033398252,0.0484773219,-0.0195591692,0.0026282328,0.029837247,0.0256501604,0.0018007292,0.0138782235,0.006246875,-0.0677727163,0.067675598,-0.0186890177,0.0042681666,0.0316387229,-0.0167212337,0.0391980484,-0.0205947086]}\n"
     ]
    }
   ],
   "source": [
    "# save id and embedding as a json file\n",
    "jsonl_string = df[[\"id\", \"embedding\"]].to_json(orient=\"records\", lines=True)\n",
    "with open(\"questions.json\", \"w\") as f:\n",
    "    f.write(jsonl_string)\n",
    "\n",
    "# show the first few lines of the json file\n",
    "! head -n 3 questions.json"
   ]
  },
  {
   "cell_type": "markdown",
   "metadata": {
    "id": "-WTNJ3FAQl_W"
   },
   "source": [
    "Then, create a new Cloud Storage bucket and copy the file to it."
   ]
  },
  {
   "cell_type": "code",
   "execution_count": 16,
   "metadata": {
    "id": "CzwDWJfzAk3n",
    "tags": []
   },
   "outputs": [
    {
     "name": "stdout",
     "output_type": "stream",
     "text": [
      "Creating gs://qwiklabs-gcp-04-53a063041c34-embvs-tutorial-11241502/...\n",
      "ServiceException: 409 A Cloud Storage bucket named 'qwiklabs-gcp-04-53a063041c34-embvs-tutorial-11241502' already exists. Try another name. Bucket names must be globally unique across all Google Cloud projects, including those outside of your organization.\n",
      "Copying file://questions.json [Content-Type=application/json]...\n",
      "/ [1 files][  9.8 MiB/  9.8 MiB]                                                \n",
      "Operation completed over 1 objects/9.8 MiB.                                      \n"
     ]
    }
   ],
   "source": [
    "BUCKET_URI = f\"gs://{PROJECT_ID}-embvs-tutorial-{UID}\"\n",
    "! gsutil mb -l $LOCATION -p {PROJECT_ID} {BUCKET_URI}\n",
    "! gsutil cp questions.json {BUCKET_URI}"
   ]
  },
  {
   "cell_type": "markdown",
   "metadata": {
    "id": "xxdbjKw1XDxl"
   },
   "source": [
    "### Create an Index\n",
    "\n",
    "Now it's ready to load the embeddings to Vector Search. Its APIs are available under the [aiplatform](https://cloud.google.com/python/docs/reference/aiplatform/latest/google.cloud.aiplatform) package of the SDK."
   ]
  },
  {
   "cell_type": "code",
   "execution_count": 17,
   "metadata": {
    "id": "8unyr9KagAoI",
    "tags": []
   },
   "outputs": [],
   "source": [
    "# init the aiplatform package\n",
    "from google.cloud import aiplatform\n",
    "\n",
    "aiplatform.init(project=PROJECT_ID, location=LOCATION)"
   ]
  },
  {
   "cell_type": "markdown",
   "metadata": {
    "id": "xpMUXqWQ75uu"
   },
   "source": [
    "Create an [MatchingEngineIndex](https://cloud.google.com/python/docs/reference/aiplatform/latest/google.cloud.aiplatform.MatchingEngineIndex) with its `create_tree_ah_index` function (Matching Engine is the previous name of Vector Search)."
   ]
  },
  {
   "cell_type": "code",
   "execution_count": 18,
   "metadata": {
    "id": "kKDw5VXMkXb3",
    "tags": []
   },
   "outputs": [
    {
     "name": "stdout",
     "output_type": "stream",
     "text": [
      "Creating MatchingEngineIndex\n",
      "Create MatchingEngineIndex backing LRO: projects/702423486597/locations/us-central1/indexes/3000694775549526016/operations/7154720520708030464\n",
      "MatchingEngineIndex created. Resource name: projects/702423486597/locations/us-central1/indexes/3000694775549526016\n",
      "To use this MatchingEngineIndex in another session:\n",
      "index = aiplatform.MatchingEngineIndex('projects/702423486597/locations/us-central1/indexes/3000694775549526016')\n"
     ]
    }
   ],
   "source": [
    "# create index\n",
    "my_index = aiplatform.MatchingEngineIndex.create_tree_ah_index(\n",
    "    display_name=f\"embvs-tutorial-index-{UID}\",\n",
    "    contents_delta_uri=BUCKET_URI,\n",
    "    dimensions=768,\n",
    "    approximate_neighbors_count=20,\n",
    "    distance_measure_type=\"DOT_PRODUCT_DISTANCE\",\n",
    ")"
   ]
  },
  {
   "cell_type": "markdown",
   "metadata": {
    "id": "2rFam_w9U0dI"
   },
   "source": [
    "By calling the `create_tree_ah_index` function, it starts building an Index. This will take under a few minutes if the dataset is small, otherwise about 50 minutes or more depending on the size of the dataset. You can check status of the index creation on [the Vector Search Console > INDEXES tab](https://console.cloud.google.com/vertex-ai/matching-engine/indexes).\n",
    "\n",
    "![](https://storage.googleapis.com/github-repo/img/embeddings/vs-quickstart/creating-index.png)\n",
    "\n",
    "#### The parameters for creating index\n",
    "\n",
    "- `contents_delta_uri`: The URI of Cloud Storage directory where you stored the embedding JSON files\n",
    "- `dimensions`: Dimension size of each embedding. In this case, it is 768 as we are using the embeddings from the Text Embeddings API.\n",
    "- `approximate_neighbors_count`: how many similar items we want to retrieve in typical cases\n",
    "- `distance_measure_type`: what metrics to measure distance/similarity between embeddings. In this case it's `DOT_PRODUCT_DISTANCE`\n",
    "\n",
    "See [the document](https://cloud.google.com/vertex-ai/docs/vector-search/create-manage-index) for more details on creating Index and the parameters.\n",
    "\n",
    "#### Batch Update or Streaming Update?\n",
    "There are two types of index: Index for *Batch Update* (used in this tutorial) and Index for *Streaming Updates*. The Batch Update index can be updated with a batch process whereas the Streaming Update index can be updated in real-time. The latter one is more suited for use cases where you want to add or update each embeddings in the index more often, and crucial to serve with the latest embeddings, such as e-commerce product search.\n"
   ]
  },
  {
   "cell_type": "markdown",
   "metadata": {
    "id": "VLOAMF50XMI8"
   },
   "source": [
    "### Create Index Endpoint and deploy the Index\n",
    "\n",
    "To use the Index, you need to create an [Index Endpoint](https://cloud.google.com/vertex-ai/docs/vector-search/deploy-index-public). It works as a server instance accepting query requests for your Index."
   ]
  },
  {
   "cell_type": "code",
   "execution_count": 19,
   "metadata": {
    "id": "h6IzyufWCjU1",
    "tags": []
   },
   "outputs": [
    {
     "name": "stdout",
     "output_type": "stream",
     "text": [
      "Creating MatchingEngineIndexEndpoint\n",
      "Create MatchingEngineIndexEndpoint backing LRO: projects/702423486597/locations/us-central1/indexEndpoints/2553518998486515712/operations/4468041868004818944\n",
      "MatchingEngineIndexEndpoint created. Resource name: projects/702423486597/locations/us-central1/indexEndpoints/2553518998486515712\n",
      "To use this MatchingEngineIndexEndpoint in another session:\n",
      "index_endpoint = aiplatform.MatchingEngineIndexEndpoint('projects/702423486597/locations/us-central1/indexEndpoints/2553518998486515712')\n"
     ]
    }
   ],
   "source": [
    "# create IndexEndpoint\n",
    "my_index_endpoint = aiplatform.MatchingEngineIndexEndpoint.create(\n",
    "    display_name=f\"embvs-tutorial-index-endpoint-{UID}\",\n",
    "    public_endpoint_enabled=True,\n",
    ")"
   ]
  },
  {
   "cell_type": "markdown",
   "metadata": {
    "id": "11e3e1a3a9e9"
   },
   "source": [
    "This tutorial utilizes a [Public Endpoint](https://cloud.google.com/vertex-ai/docs/vector-search/setup/setup#choose-endpoint) and does not support [Virtual Private Cloud (VPC)](https://cloud.google.com/vpc/docs/private-services-access). Unless you have a specific requirement for VPC, we recommend using a Public Endpoint. Despite the term \"public\" in its name, it does not imply open access to the public internet. Rather, it functions like other endpoints in Vertex AI services, which are secured by default through IAM. Without explicit IAM permissions, as we have previously established, no one can access the endpoint."
   ]
  },
  {
   "cell_type": "markdown",
   "metadata": {
    "id": "8n33iO1T5hFO"
   },
   "source": [
    "With the Index Endpoint, deploy the Index by specifying an unique deployed index ID."
   ]
  },
  {
   "cell_type": "code",
   "execution_count": 20,
   "metadata": {
    "id": "FcBHLifGwAWq",
    "tags": []
   },
   "outputs": [],
   "source": [
    "DEPLOYED_INDEX_ID = f\"embvs_tutorial_deployed_{UID}\""
   ]
  },
  {
   "cell_type": "code",
   "execution_count": 21,
   "metadata": {
    "id": "1jUoGhY5TPFP",
    "tags": []
   },
   "outputs": [
    {
     "name": "stdout",
     "output_type": "stream",
     "text": [
      "Deploying index MatchingEngineIndexEndpoint index_endpoint: projects/702423486597/locations/us-central1/indexEndpoints/2553518998486515712\n",
      "Deploy index MatchingEngineIndexEndpoint index_endpoint backing LRO: projects/702423486597/locations/us-central1/indexEndpoints/2553518998486515712/operations/2346002018583183360\n",
      "MatchingEngineIndexEndpoint index_endpoint Deployed index. Resource name: projects/702423486597/locations/us-central1/indexEndpoints/2553518998486515712\n"
     ]
    },
    {
     "data": {
      "text/plain": [
       "<google.cloud.aiplatform.matching_engine.matching_engine_index_endpoint.MatchingEngineIndexEndpoint object at 0x7f2e26773670> \n",
       "resource name: projects/702423486597/locations/us-central1/indexEndpoints/2553518998486515712"
      ]
     },
     "execution_count": 21,
     "metadata": {},
     "output_type": "execute_result"
    }
   ],
   "source": [
    "# deploy the Index to the Index Endpoint\n",
    "my_index_endpoint.deploy_index(index=my_index, deployed_index_id=DEPLOYED_INDEX_ID)"
   ]
  },
  {
   "cell_type": "markdown",
   "metadata": {
    "id": "xu9ZmWcpXQ55"
   },
   "source": [
    "If it is the first time to deploy an Index to an Index Endpoint, it will take around 25 minutes to automatically build and initiate the backend for it. After the first deployment, it will finish in seconds. To see the status of the index deployment, open [the Vector Search Console > INDEX ENDPOINTS tab](https://console.cloud.google.com/vertex-ai/matching-engine/index-endpoints) and click the Index Endpoint.\n",
    "\n",
    "<img src=\"https://storage.googleapis.com/github-repo/img/embeddings/vs-quickstart/deploying-index.png\" width=\"70%\">"
   ]
  },
  {
   "cell_type": "markdown",
   "metadata": {
    "id": "oTi4PjjbXV-O"
   },
   "source": [
    "### Run Query\n",
    "\n",
    "Finally it's ready to use Vector Search. In the following code, it creates an embedding for a test question, and find similar question with the Vector Search."
   ]
  },
  {
   "cell_type": "code",
   "execution_count": 22,
   "metadata": {
    "id": "FhNuRQqUWdfe",
    "tags": []
   },
   "outputs": [
    {
     "name": "stderr",
     "output_type": "stream",
     "text": [
      "100%|██████████| 1/1 [00:01<00:00,  1.13s/it]\n"
     ]
    }
   ],
   "source": [
    "test_embeddings = get_embeddings_wrapper([\"How to read JSON with Python?\"])"
   ]
  },
  {
   "cell_type": "code",
   "execution_count": 23,
   "metadata": {
    "id": "Q01DGMBPXAg-",
    "tags": []
   },
   "outputs": [
    {
     "name": "stdout",
     "output_type": "stream",
     "text": [
      "0.7536 python json to csv， How to read a file in chunks or line by line\n",
      "0.6470 How to convert a dict object in requests.models.Response object in Python?\n",
      "0.6202 What is JSON and ymal models in tensorflow?\n",
      "0.5843 Powershell Specific Json Value\n",
      "0.5707 How to create a dataframe from multiple dictionaries?\n",
      "0.5552 Python get N characters from string with specific substring\n",
      "0.5506 iterate data from multiple json files using cypress\n",
      "0.5450 Using system.text.json with Azure Functions\n",
      "0.5323 Obtain a pandas dataframe with two columns from a python list\n",
      "0.5254 How to get table into a Dataframe with BeautifullSoup\n",
      "0.5240 Can we use reflection to instantiate custom TypeScript model from a JSON string?\n",
      "0.5127 Python - replace HTML-looking tags in text\n",
      "0.5127 How to efficiently handle user input specifications in python\n",
      "0.5032 Filename to date and then sort in Python\n",
      "0.5027 Using a Javascript Map as data in D3\n",
      "0.5018 how to retrieve data from two tables that is passed as a dictionary\n",
      "0.4931 Pandas multi column input to multi column output\n",
      "0.4928 Create new column by mapping to previous values in dataset using Python\n",
      "0.4927 Pyspark read parquet, Can not merge type <class 'pyspark.sql.types.LongType'> and <class 'pyspark.sql.types.StructType'>\n",
      "0.4903 i got error none of the index are in the column in python\n"
     ]
    }
   ],
   "source": [
    "# Test query\n",
    "response = my_index_endpoint.find_neighbors(\n",
    "    deployed_index_id=DEPLOYED_INDEX_ID,\n",
    "    queries=test_embeddings,\n",
    "    num_neighbors=20,\n",
    ")\n",
    "\n",
    "# show the result\n",
    "import numpy as np\n",
    "\n",
    "for idx, neighbor in enumerate(response[0]):\n",
    "    id = np.int64(neighbor.id)\n",
    "    similar = df.query(\"id == @id\", engine=\"python\")\n",
    "    print(f\"{neighbor.distance:.4f} {similar.title.values[0]}\")"
   ]
  },
  {
   "cell_type": "markdown",
   "metadata": {
    "id": "tPDOL9caoYZ9"
   },
   "source": [
    "The `find_neighbors` function only takes milliseconds to fetch the similar items even when you have billions of items on the Index, thanks to the ScaNN algorithm. Vector Search also supports [autoscaling](https://cloud.google.com/vertex-ai/docs/vector-search/deploy-index-public#autoscaling) which can automatically resize the number of nodes based on the demands of your workloads."
   ]
  },
  {
   "cell_type": "markdown",
   "metadata": {
    "id": "DDt4D6FDyc66"
   },
   "source": [
    "# IMPORTANT: Cleaning Up\n",
    "\n",
    "In case you are using your own Cloud project, not a temporary project on Qwiklab, please make sure to delete all the Indexes, Index Endpoints and Cloud Storage buckets after finishing this tutorial. Otherwise the remaining objects would **incur unexpected costs**.\n",
    "\n",
    "If you used Workbench, you may also need to delete the Notebooks from [the console](https://console.cloud.google.com/vertex-ai/workbench)."
   ]
  },
  {
   "cell_type": "code",
   "execution_count": null,
   "metadata": {
    "id": "MEsKVzguyxNx",
    "tags": []
   },
   "outputs": [],
   "source": [
    "# wait for a confirmation\n",
    "input(\"Press Enter to delete Index Endpoint, Index and Cloud Storage bucket:\")\n",
    "\n",
    "# delete Index Endpoint\n",
    "my_index_endpoint.undeploy_all()\n",
    "my_index_endpoint.delete(force=True)\n",
    "\n",
    "# delete Index\n",
    "my_index.delete()\n",
    "\n",
    "# delete Cloud Storage bucket\n",
    "! gsutil rm -r {BUCKET_URI}"
   ]
  },
  {
   "cell_type": "markdown",
   "metadata": {
    "id": "b8k26QOF3Ys7"
   },
   "source": [
    "# Summary\n",
    "\n",
    "## Grounding LLM outputs with Vertex AI Vector Search\n",
    "\n",
    "As we have seen, by combining the Embeddings API and Vector Search, you can use the embeddings to \"ground\" LLM outputs to real business data with low latency.\n",
    "\n",
    "For example, if an user asks a question, Embeddings API can convert it to an embedding, and issue a query on Vector Search to find similar embeddings in its index. Those embeddings represent the actual business data in the databases. As we are just retrieving the business data and not generating any artificial texts, there is no risk of having hallucinations in the result.\n",
    "\n",
    "![](https://storage.googleapis.com/gweb-cloudblog-publish/original_images/10._grounding.png)\n",
    "\n",
    "### The difference between the questions and answers\n",
    "\n",
    "In this tutorial, we have used the Stack Overflow dataset. There is a reason why we had to use it; As the dataset has many pairs of **questions and answers**, so you can just find questions similar to your question to find answers to it.\n",
    "\n",
    "In many business use cases, the semantics (meaning) of questions and answers are different. Also, there could be cases where you would want to add variety of recommended or personalized items to the results, like product search on e-commerce sites.\n",
    "\n",
    "In these cases, the simple semantics search don't work well. It's more like a recommendation system problem where you may want to train a model (e.g. Two-Tower model) to learn the relationship between the question embedding space and answer embedding space. Also, many production systems adds reranking phase after the semantic search to achieve higher search quality. Please see [Scaling deep retrieval with TensorFlow Recommenders and Vertex AI Matching Engine](https://cloud.google.com/blog/products/ai-machine-learning/scaling-deep-retrieval-tensorflow-two-towers-architecture) to learn more.\n",
    "\n",
    "### Hybrid of semantic + keyword search\n",
    "\n",
    "Another typical challenge you will face in production system is to support keyword search combined with the semantic search. For example, for e-commerce product search, you may want to let users find product by entering its product name or model number. As LLM doesn't memorize those product names or model numbers, semantic search can't handle those \"usual\" search functionalities.\n",
    "\n",
    "[Vertex AI Search](https://cloud.google.com/blog/products/ai-machine-learning/vertex-ai-search-and-conversation-is-now-generally-available) is another product you may consider for those requirements. While Vector Search provides a simple semantic search capability only, Search provides a integrated search solution that combines semantic search, keyword search, reranking and filtering, available as an out-of-the-box tool.\n",
    "\n",
    "### What about Retrieval Augmented Generation (RAG)?\n",
    "\n",
    "In this tutorial, we have looked at the simple combination of LLM embeddings and vector search. From this starting point, you may also extend the design to [Retrieval Augmented Generation (RAG)](https://www.google.com/search?q=Retrieval+Augmented+Generation+(RAG)&oq=Retrieval+Augmented+Generation+(RAG)).\n",
    "\n",
    "RAG is a popular architecture pattern of implementing grounding with LLM with text chat UI. The idea is to have the LLM text chat UI as a frontend for the document retrieval with vector search and summarization of the result.\n",
    "\n",
    "![](https://storage.googleapis.com/gweb-cloudblog-publish/images/Figure-7-Ask_Your_Documents_Flow.max-529x434.png)\n",
    "\n",
    "There are some pros and cons between the two solutions.\n",
    "\n",
    "| | Embeddings + vector search | RAG |\n",
    "|---|---|---|\n",
    "| Design | simple | complex |\n",
    "| UI | Text search UI | Text chat UI |\n",
    "| Summarization of result | No | Yes |\n",
    "| Multi-turn (Context aware) | No | Yes |\n",
    "| Latency | milliseconds | seconds |\n",
    "| Cost | lower | higher |\n",
    "| Hallucinations | No risk | Some risk |\n",
    "\n",
    "The Embedding + vector search pattern we have looked at with this tutorial provides simple, fast and low cost semantic search functionality with the LLM intelligence. RAG adds context-aware text chat experience and result summarization to it. While RAG provides the more \"Gen AI-ish\" experience, it also adds a risk of hallucination and higher cost and time for the text generation.\n",
    "\n",
    "To learn more about how to build a RAG solution, you may look at [Building Generative AI applications made easy with Vertex AI PaLM API and LangChain](https://cloud.google.com/blog/products/ai-machine-learning/generative-ai-applications-with-vertex-ai-palm-2-models-and-langchain).\n",
    "\n",
    "## Resources\n",
    "\n",
    "To learn more, please check out the following resources:\n",
    "\n",
    "### Documentations\n",
    "\n",
    "[Vertex AI Embeddings for Text API documentation\n",
    "](https://cloud.google.com/vertex-ai/docs/generative-ai/embeddings/get-text-embeddings)\n",
    "\n",
    "[Vector Search documentation](https://cloud.google.com/vertex-ai/docs/matching-engine/overview)\n",
    "\n",
    "### Vector Search blog posts\n",
    "\n",
    "[Vertex Matching Engine: Blazing fast and massively scalable nearest neighbor search](https://cloud.google.com/blog/products/ai-machine-learning/vertex-matching-engine-blazing-fast-and-massively-scalable-nearest-neighbor-search)\n",
    "\n",
    "[Find anything blazingly fast with Google's vector search technology](https://cloud.google.com/blog/topics/developers-practitioners/find-anything-blazingly-fast-googles-vector-search-technology)\n",
    "\n",
    "[Enabling real-time AI with Streaming Ingestion in Vertex AI](https://cloud.google.com/blog/products/ai-machine-learning/real-time-ai-with-google-cloud-vertex-ai)\n",
    "\n",
    "[Mercari leverages Google's vector search technology to create a new marketplace](https://cloud.google.com/blog/topics/developers-practitioners/mercari-leverages-googles-vector-search-technology-create-new-marketplace)\n",
    "\n",
    "[Recommending news articles using Vertex AI Matching Engine](https://cloud.google.com/blog/products/ai-machine-learning/recommending-articles-using-vertex-ai-matching-engine)\n",
    "\n",
    "[What is Multimodal Search: \"LLMs with vision\" change businesses](https://cloud.google.com/blog/products/ai-machine-learning/multimodal-generative-ai-search)"
   ]
  },
  {
   "cell_type": "markdown",
   "metadata": {
    "id": "BE1tELsH-u8N"
   },
   "source": [
    "# Utilities\n",
    "\n",
    "Sometimes it takes tens of minutes to create or deploy Indexes and you would lose connection with the Colab runtime. In that case, instead of creating or deploying new Index again, you can check [the Vector Search Console](https://console.cloud.google.com/vertex-ai/matching-engine/index-endpoints) and get the existing ones to continue."
   ]
  },
  {
   "cell_type": "markdown",
   "metadata": {
    "id": "wF_pkdpJ-yaq"
   },
   "source": [
    "## Get an existing Index\n",
    "\n",
    "To get an Index object that already exists, replace the following `[your-index-id]` with the index ID and run the cell. You can check the ID on [the Vector Search Console > INDEXES tab](https://console.cloud.google.com/vertex-ai/matching-engine/indexes)."
   ]
  },
  {
   "cell_type": "code",
   "execution_count": null,
   "metadata": {
    "id": "mEBkZZt_-0jG",
    "tags": []
   },
   "outputs": [],
   "source": [
    "my_index_id = \"[your-index-id]\"  # @param {type:\"string\"}\n",
    "my_index = aiplatform.MatchingEngineIndex(my_index_id)"
   ]
  },
  {
   "cell_type": "markdown",
   "metadata": {
    "id": "_vlgzkyw-3CI"
   },
   "source": [
    "## Get an existing Index Endpoint\n",
    "\n",
    "To get an Index Endpoint object that already exists, replace the following `[your-index-endpoint-id]` with the Index Endpoint ID and run the cell. You can check the ID on [the Vector Search Console > INDEX ENDPOINTS tab](https://console.cloud.google.com/vertex-ai/matching-engine/index-endpoints)."
   ]
  },
  {
   "cell_type": "code",
   "execution_count": null,
   "metadata": {
    "id": "E0OFnirF-6Rk",
    "tags": []
   },
   "outputs": [],
   "source": [
    "my_index_endpoint_id = \"[your-index-endpoint-id]\"  # @param {type:\"string\"}\n",
    "my_index_endpoint = aiplatform.MatchingEngineIndexEndpoint(my_index_endpoint_id)"
   ]
  },
  {
   "cell_type": "code",
   "execution_count": null,
   "metadata": {},
   "outputs": [],
   "source": []
  }
 ],
 "metadata": {
  "colab": {
   "name": "intro-textemb-vectorsearch.ipynb",
   "toc_visible": true
  },
  "environment": {
   "kernel": "python3",
   "name": "tf2-gpu.2-15.m125",
   "type": "gcloud",
   "uri": "us-docker.pkg.dev/deeplearning-platform-release/gcr.io/tf2-gpu.2-15:m125"
  },
  "kernelspec": {
   "display_name": "Python 3 (Local)",
   "language": "python",
   "name": "python3"
  },
  "language_info": {
   "codemirror_mode": {
    "name": "ipython",
    "version": 3
   },
   "file_extension": ".py",
   "mimetype": "text/x-python",
   "name": "python",
   "nbconvert_exporter": "python",
   "pygments_lexer": "ipython3",
   "version": "3.10.15"
  }
 },
 "nbformat": 4,
 "nbformat_minor": 4
}
